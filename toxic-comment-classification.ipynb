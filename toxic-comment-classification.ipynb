{
 "cells": [
  {
   "cell_type": "code",
   "execution_count": 1,
   "id": "901a7244",
   "metadata": {
    "execution": {
     "iopub.execute_input": "2022-02-05T09:03:40.630454Z",
     "iopub.status.busy": "2022-02-05T09:03:40.622621Z",
     "iopub.status.idle": "2022-02-05T09:04:03.160731Z",
     "shell.execute_reply": "2022-02-05T09:04:03.159911Z",
     "shell.execute_reply.started": "2022-02-05T08:41:00.962872Z"
    },
    "papermill": {
     "duration": 22.577122,
     "end_time": "2022-02-05T09:04:03.160926",
     "exception": false,
     "start_time": "2022-02-05T09:03:40.583804",
     "status": "completed"
    },
    "tags": []
   },
   "outputs": [
    {
     "name": "stdout",
     "output_type": "stream",
     "text": [
      "[nltk_data] Error loading stopwords: <urlopen error [Errno -3]\n",
      "[nltk_data]     Temporary failure in name resolution>\n"
     ]
    }
   ],
   "source": [
    "import numpy as np\n",
    "\n",
    "import pandas as pd\n",
    "\n",
    "messages1 = pd.read_csv('../input/jigsaw-toxic-severity-rating/validation_data.csv')\n",
    "\n",
    "#Data cleaning and preprocessing\n",
    "import re\n",
    "import nltk\n",
    "nltk.download('stopwords')\n",
    "\n",
    "from nltk.corpus import stopwords\n",
    "from nltk.stem.porter import PorterStemmer\n",
    "\n",
    "\n",
    "#messages1.head(1)"
   ]
  },
  {
   "cell_type": "code",
   "execution_count": null,
   "id": "ea3b0cb5",
   "metadata": {
    "papermill": {
     "duration": 0.033295,
     "end_time": "2022-02-05T09:04:03.229362",
     "exception": false,
     "start_time": "2022-02-05T09:04:03.196067",
     "status": "completed"
    },
    "tags": []
   },
   "outputs": [],
   "source": []
  },
  {
   "cell_type": "code",
   "execution_count": 2,
   "id": "4e1efe36",
   "metadata": {
    "execution": {
     "iopub.execute_input": "2022-02-05T09:04:03.300451Z",
     "iopub.status.busy": "2022-02-05T09:04:03.299796Z",
     "iopub.status.idle": "2022-02-05T09:04:03.326627Z",
     "shell.execute_reply": "2022-02-05T09:04:03.327178Z",
     "shell.execute_reply.started": "2022-02-05T08:41:23.166688Z"
    },
    "papermill": {
     "duration": 0.064125,
     "end_time": "2022-02-05T09:04:03.327385",
     "exception": false,
     "start_time": "2022-02-05T09:04:03.263260",
     "status": "completed"
    },
    "tags": []
   },
   "outputs": [
    {
     "data": {
      "text/html": [
       "<div>\n",
       "<style scoped>\n",
       "    .dataframe tbody tr th:only-of-type {\n",
       "        vertical-align: middle;\n",
       "    }\n",
       "\n",
       "    .dataframe tbody tr th {\n",
       "        vertical-align: top;\n",
       "    }\n",
       "\n",
       "    .dataframe thead th {\n",
       "        text-align: right;\n",
       "    }\n",
       "</style>\n",
       "<table border=\"1\" class=\"dataframe\">\n",
       "  <thead>\n",
       "    <tr style=\"text-align: right;\">\n",
       "      <th></th>\n",
       "      <th>less_toxic</th>\n",
       "      <th>more_toxic</th>\n",
       "    </tr>\n",
       "  </thead>\n",
       "  <tbody>\n",
       "    <tr>\n",
       "      <th>0</th>\n",
       "      <td>This article sucks \\n\\nwoo woo wooooooo</td>\n",
       "      <td>WHAT!!!!!!!!?!?!!?!?!!?!?!?!?!!!!!!!!!!!!!!!!!...</td>\n",
       "    </tr>\n",
       "    <tr>\n",
       "      <th>1</th>\n",
       "      <td>\"And yes, people should recognize that but the...</td>\n",
       "      <td>Daphne Guinness \\n\\nTop of the mornin' my fav...</td>\n",
       "    </tr>\n",
       "    <tr>\n",
       "      <th>2</th>\n",
       "      <td>Western Media?\\n\\nYup, because every crime in...</td>\n",
       "      <td>\"Atom you don't believe actual photos of mastu...</td>\n",
       "    </tr>\n",
       "    <tr>\n",
       "      <th>3</th>\n",
       "      <td>And you removed it! You numbskull! I don't car...</td>\n",
       "      <td>You seem to have sand in your vagina.\\n\\nMight...</td>\n",
       "    </tr>\n",
       "    <tr>\n",
       "      <th>4</th>\n",
       "      <td>smelly vagina \\n\\nBluerasberry why don't you ...</td>\n",
       "      <td>hey \\n\\nway to support nazis, you racist</td>\n",
       "    </tr>\n",
       "    <tr>\n",
       "      <th>...</th>\n",
       "      <td>...</td>\n",
       "      <td>...</td>\n",
       "    </tr>\n",
       "    <tr>\n",
       "      <th>30103</th>\n",
       "      <td>I'm sorry. I'm not an admin. I will give you t...</td>\n",
       "      <td>get out my large penis</td>\n",
       "    </tr>\n",
       "    <tr>\n",
       "      <th>30104</th>\n",
       "      <td>I'm sorry. I'm not an admin. I will give you t...</td>\n",
       "      <td>get out my large penis</td>\n",
       "    </tr>\n",
       "    <tr>\n",
       "      <th>30105</th>\n",
       "      <td>wow...\\nare you out of your mind, how was my e...</td>\n",
       "      <td>Piss off you slant eyed-gook</td>\n",
       "    </tr>\n",
       "    <tr>\n",
       "      <th>30106</th>\n",
       "      <td>wow...\\nare you out of your mind, how was my e...</td>\n",
       "      <td>Piss off you slant eyed-gook</td>\n",
       "    </tr>\n",
       "    <tr>\n",
       "      <th>30107</th>\n",
       "      <td>wow...\\nare you out of your mind, how was my e...</td>\n",
       "      <td>Piss off you slant eyed-gook</td>\n",
       "    </tr>\n",
       "  </tbody>\n",
       "</table>\n",
       "<p>30108 rows × 2 columns</p>\n",
       "</div>"
      ],
      "text/plain": [
       "                                              less_toxic  \\\n",
       "0                This article sucks \\n\\nwoo woo wooooooo   \n",
       "1      \"And yes, people should recognize that but the...   \n",
       "2       Western Media?\\n\\nYup, because every crime in...   \n",
       "3      And you removed it! You numbskull! I don't car...   \n",
       "4       smelly vagina \\n\\nBluerasberry why don't you ...   \n",
       "...                                                  ...   \n",
       "30103  I'm sorry. I'm not an admin. I will give you t...   \n",
       "30104  I'm sorry. I'm not an admin. I will give you t...   \n",
       "30105  wow...\\nare you out of your mind, how was my e...   \n",
       "30106  wow...\\nare you out of your mind, how was my e...   \n",
       "30107  wow...\\nare you out of your mind, how was my e...   \n",
       "\n",
       "                                              more_toxic  \n",
       "0      WHAT!!!!!!!!?!?!!?!?!!?!?!?!?!!!!!!!!!!!!!!!!!...  \n",
       "1       Daphne Guinness \\n\\nTop of the mornin' my fav...  \n",
       "2      \"Atom you don't believe actual photos of mastu...  \n",
       "3      You seem to have sand in your vagina.\\n\\nMight...  \n",
       "4               hey \\n\\nway to support nazis, you racist  \n",
       "...                                                  ...  \n",
       "30103                             get out my large penis  \n",
       "30104                             get out my large penis  \n",
       "30105                       Piss off you slant eyed-gook  \n",
       "30106                       Piss off you slant eyed-gook  \n",
       "30107                       Piss off you slant eyed-gook  \n",
       "\n",
       "[30108 rows x 2 columns]"
      ]
     },
     "execution_count": 2,
     "metadata": {},
     "output_type": "execute_result"
    }
   ],
   "source": [
    "messages1.drop('worker',axis=1)"
   ]
  },
  {
   "cell_type": "code",
   "execution_count": 3,
   "id": "970a3da0",
   "metadata": {
    "execution": {
     "iopub.execute_input": "2022-02-05T09:04:03.411051Z",
     "iopub.status.busy": "2022-02-05T09:04:03.410293Z",
     "iopub.status.idle": "2022-02-05T09:04:03.424250Z",
     "shell.execute_reply": "2022-02-05T09:04:03.424709Z",
     "shell.execute_reply.started": "2022-02-05T08:41:23.198117Z"
    },
    "papermill": {
     "duration": 0.063246,
     "end_time": "2022-02-05T09:04:03.424934",
     "exception": false,
     "start_time": "2022-02-05T09:04:03.361688",
     "status": "completed"
    },
    "tags": []
   },
   "outputs": [
    {
     "data": {
      "text/html": [
       "<div>\n",
       "<style scoped>\n",
       "    .dataframe tbody tr th:only-of-type {\n",
       "        vertical-align: middle;\n",
       "    }\n",
       "\n",
       "    .dataframe tbody tr th {\n",
       "        vertical-align: top;\n",
       "    }\n",
       "\n",
       "    .dataframe thead th {\n",
       "        text-align: right;\n",
       "    }\n",
       "</style>\n",
       "<table border=\"1\" class=\"dataframe\">\n",
       "  <thead>\n",
       "    <tr style=\"text-align: right;\">\n",
       "      <th></th>\n",
       "      <th>0</th>\n",
       "    </tr>\n",
       "  </thead>\n",
       "  <tbody>\n",
       "    <tr>\n",
       "      <th>0</th>\n",
       "      <td>WHAT!!!!!!!!?!?!!?!?!!?!?!?!?!!!!!!!!!!!!!!!!!...</td>\n",
       "    </tr>\n",
       "    <tr>\n",
       "      <th>1</th>\n",
       "      <td>Daphne Guinness \\n\\nTop of the mornin' my fav...</td>\n",
       "    </tr>\n",
       "    <tr>\n",
       "      <th>2</th>\n",
       "      <td>\"Atom you don't believe actual photos of mastu...</td>\n",
       "    </tr>\n",
       "    <tr>\n",
       "      <th>3</th>\n",
       "      <td>You seem to have sand in your vagina.\\n\\nMight...</td>\n",
       "    </tr>\n",
       "    <tr>\n",
       "      <th>4</th>\n",
       "      <td>hey \\n\\nway to support nazis, you racist</td>\n",
       "    </tr>\n",
       "    <tr>\n",
       "      <th>...</th>\n",
       "      <td>...</td>\n",
       "    </tr>\n",
       "    <tr>\n",
       "      <th>30103</th>\n",
       "      <td>get out my large penis</td>\n",
       "    </tr>\n",
       "    <tr>\n",
       "      <th>30104</th>\n",
       "      <td>get out my large penis</td>\n",
       "    </tr>\n",
       "    <tr>\n",
       "      <th>30105</th>\n",
       "      <td>Piss off you slant eyed-gook</td>\n",
       "    </tr>\n",
       "    <tr>\n",
       "      <th>30106</th>\n",
       "      <td>Piss off you slant eyed-gook</td>\n",
       "    </tr>\n",
       "    <tr>\n",
       "      <th>30107</th>\n",
       "      <td>Piss off you slant eyed-gook</td>\n",
       "    </tr>\n",
       "  </tbody>\n",
       "</table>\n",
       "<p>30108 rows × 1 columns</p>\n",
       "</div>"
      ],
      "text/plain": [
       "                                                       0\n",
       "0      WHAT!!!!!!!!?!?!!?!?!!?!?!?!?!!!!!!!!!!!!!!!!!...\n",
       "1       Daphne Guinness \\n\\nTop of the mornin' my fav...\n",
       "2      \"Atom you don't believe actual photos of mastu...\n",
       "3      You seem to have sand in your vagina.\\n\\nMight...\n",
       "4               hey \\n\\nway to support nazis, you racist\n",
       "...                                                  ...\n",
       "30103                             get out my large penis\n",
       "30104                             get out my large penis\n",
       "30105                       Piss off you slant eyed-gook\n",
       "30106                       Piss off you slant eyed-gook\n",
       "30107                       Piss off you slant eyed-gook\n",
       "\n",
       "[30108 rows x 1 columns]"
      ]
     },
     "execution_count": 3,
     "metadata": {},
     "output_type": "execute_result"
    }
   ],
   "source": [
    "more_tox= pd.DataFrame(zip(messages1.more_toxic))\n",
    "more_tox"
   ]
  },
  {
   "cell_type": "code",
   "execution_count": 4,
   "id": "61498002",
   "metadata": {
    "execution": {
     "iopub.execute_input": "2022-02-05T09:04:03.498909Z",
     "iopub.status.busy": "2022-02-05T09:04:03.498286Z",
     "iopub.status.idle": "2022-02-05T09:04:03.525694Z",
     "shell.execute_reply": "2022-02-05T09:04:03.526231Z",
     "shell.execute_reply.started": "2022-02-05T08:41:23.230460Z"
    },
    "papermill": {
     "duration": 0.066579,
     "end_time": "2022-02-05T09:04:03.526429",
     "exception": false,
     "start_time": "2022-02-05T09:04:03.459850",
     "status": "completed"
    },
    "tags": []
   },
   "outputs": [
    {
     "data": {
      "text/html": [
       "<div>\n",
       "<style scoped>\n",
       "    .dataframe tbody tr th:only-of-type {\n",
       "        vertical-align: middle;\n",
       "    }\n",
       "\n",
       "    .dataframe tbody tr th {\n",
       "        vertical-align: top;\n",
       "    }\n",
       "\n",
       "    .dataframe thead th {\n",
       "        text-align: right;\n",
       "    }\n",
       "</style>\n",
       "<table border=\"1\" class=\"dataframe\">\n",
       "  <thead>\n",
       "    <tr style=\"text-align: right;\">\n",
       "      <th></th>\n",
       "      <th>0</th>\n",
       "    </tr>\n",
       "  </thead>\n",
       "  <tbody>\n",
       "    <tr>\n",
       "      <th>0</th>\n",
       "      <td>This article sucks \\n\\nwoo woo wooooooo</td>\n",
       "    </tr>\n",
       "    <tr>\n",
       "      <th>1</th>\n",
       "      <td>\"And yes, people should recognize that but the...</td>\n",
       "    </tr>\n",
       "    <tr>\n",
       "      <th>2</th>\n",
       "      <td>Western Media?\\n\\nYup, because every crime in...</td>\n",
       "    </tr>\n",
       "    <tr>\n",
       "      <th>3</th>\n",
       "      <td>And you removed it! You numbskull! I don't car...</td>\n",
       "    </tr>\n",
       "    <tr>\n",
       "      <th>4</th>\n",
       "      <td>smelly vagina \\n\\nBluerasberry why don't you ...</td>\n",
       "    </tr>\n",
       "    <tr>\n",
       "      <th>...</th>\n",
       "      <td>...</td>\n",
       "    </tr>\n",
       "    <tr>\n",
       "      <th>30103</th>\n",
       "      <td>I'm sorry. I'm not an admin. I will give you t...</td>\n",
       "    </tr>\n",
       "    <tr>\n",
       "      <th>30104</th>\n",
       "      <td>I'm sorry. I'm not an admin. I will give you t...</td>\n",
       "    </tr>\n",
       "    <tr>\n",
       "      <th>30105</th>\n",
       "      <td>wow...\\nare you out of your mind, how was my e...</td>\n",
       "    </tr>\n",
       "    <tr>\n",
       "      <th>30106</th>\n",
       "      <td>wow...\\nare you out of your mind, how was my e...</td>\n",
       "    </tr>\n",
       "    <tr>\n",
       "      <th>30107</th>\n",
       "      <td>wow...\\nare you out of your mind, how was my e...</td>\n",
       "    </tr>\n",
       "  </tbody>\n",
       "</table>\n",
       "<p>30108 rows × 1 columns</p>\n",
       "</div>"
      ],
      "text/plain": [
       "                                                       0\n",
       "0                This article sucks \\n\\nwoo woo wooooooo\n",
       "1      \"And yes, people should recognize that but the...\n",
       "2       Western Media?\\n\\nYup, because every crime in...\n",
       "3      And you removed it! You numbskull! I don't car...\n",
       "4       smelly vagina \\n\\nBluerasberry why don't you ...\n",
       "...                                                  ...\n",
       "30103  I'm sorry. I'm not an admin. I will give you t...\n",
       "30104  I'm sorry. I'm not an admin. I will give you t...\n",
       "30105  wow...\\nare you out of your mind, how was my e...\n",
       "30106  wow...\\nare you out of your mind, how was my e...\n",
       "30107  wow...\\nare you out of your mind, how was my e...\n",
       "\n",
       "[30108 rows x 1 columns]"
      ]
     },
     "execution_count": 4,
     "metadata": {},
     "output_type": "execute_result"
    }
   ],
   "source": [
    "less_tox= pd.DataFrame(zip(messages1.less_toxic))\n",
    "less_tox"
   ]
  },
  {
   "cell_type": "code",
   "execution_count": 5,
   "id": "dfa9fb0a",
   "metadata": {
    "execution": {
     "iopub.execute_input": "2022-02-05T09:04:03.605526Z",
     "iopub.status.busy": "2022-02-05T09:04:03.604448Z",
     "iopub.status.idle": "2022-02-05T09:04:03.611250Z",
     "shell.execute_reply": "2022-02-05T09:04:03.610668Z",
     "shell.execute_reply.started": "2022-02-05T08:41:23.266068Z"
    },
    "papermill": {
     "duration": 0.04713,
     "end_time": "2022-02-05T09:04:03.611427",
     "exception": false,
     "start_time": "2022-02-05T09:04:03.564297",
     "status": "completed"
    },
    "tags": []
   },
   "outputs": [],
   "source": [
    "less_tox['y'] = '0'\n"
   ]
  },
  {
   "cell_type": "code",
   "execution_count": 6,
   "id": "33cdc01f",
   "metadata": {
    "execution": {
     "iopub.execute_input": "2022-02-05T09:04:03.698748Z",
     "iopub.status.busy": "2022-02-05T09:04:03.697841Z",
     "iopub.status.idle": "2022-02-05T09:04:03.702112Z",
     "shell.execute_reply": "2022-02-05T09:04:03.701552Z",
     "shell.execute_reply.started": "2022-02-05T08:41:23.273076Z"
    },
    "papermill": {
     "duration": 0.054906,
     "end_time": "2022-02-05T09:04:03.702298",
     "exception": false,
     "start_time": "2022-02-05T09:04:03.647392",
     "status": "completed"
    },
    "tags": []
   },
   "outputs": [
    {
     "data": {
      "text/html": [
       "<div>\n",
       "<style scoped>\n",
       "    .dataframe tbody tr th:only-of-type {\n",
       "        vertical-align: middle;\n",
       "    }\n",
       "\n",
       "    .dataframe tbody tr th {\n",
       "        vertical-align: top;\n",
       "    }\n",
       "\n",
       "    .dataframe thead th {\n",
       "        text-align: right;\n",
       "    }\n",
       "</style>\n",
       "<table border=\"1\" class=\"dataframe\">\n",
       "  <thead>\n",
       "    <tr style=\"text-align: right;\">\n",
       "      <th></th>\n",
       "      <th>0</th>\n",
       "      <th>y</th>\n",
       "    </tr>\n",
       "  </thead>\n",
       "  <tbody>\n",
       "    <tr>\n",
       "      <th>0</th>\n",
       "      <td>This article sucks \\n\\nwoo woo wooooooo</td>\n",
       "      <td>0</td>\n",
       "    </tr>\n",
       "    <tr>\n",
       "      <th>1</th>\n",
       "      <td>\"And yes, people should recognize that but the...</td>\n",
       "      <td>0</td>\n",
       "    </tr>\n",
       "    <tr>\n",
       "      <th>2</th>\n",
       "      <td>Western Media?\\n\\nYup, because every crime in...</td>\n",
       "      <td>0</td>\n",
       "    </tr>\n",
       "    <tr>\n",
       "      <th>3</th>\n",
       "      <td>And you removed it! You numbskull! I don't car...</td>\n",
       "      <td>0</td>\n",
       "    </tr>\n",
       "    <tr>\n",
       "      <th>4</th>\n",
       "      <td>smelly vagina \\n\\nBluerasberry why don't you ...</td>\n",
       "      <td>0</td>\n",
       "    </tr>\n",
       "    <tr>\n",
       "      <th>...</th>\n",
       "      <td>...</td>\n",
       "      <td>...</td>\n",
       "    </tr>\n",
       "    <tr>\n",
       "      <th>30103</th>\n",
       "      <td>I'm sorry. I'm not an admin. I will give you t...</td>\n",
       "      <td>0</td>\n",
       "    </tr>\n",
       "    <tr>\n",
       "      <th>30104</th>\n",
       "      <td>I'm sorry. I'm not an admin. I will give you t...</td>\n",
       "      <td>0</td>\n",
       "    </tr>\n",
       "    <tr>\n",
       "      <th>30105</th>\n",
       "      <td>wow...\\nare you out of your mind, how was my e...</td>\n",
       "      <td>0</td>\n",
       "    </tr>\n",
       "    <tr>\n",
       "      <th>30106</th>\n",
       "      <td>wow...\\nare you out of your mind, how was my e...</td>\n",
       "      <td>0</td>\n",
       "    </tr>\n",
       "    <tr>\n",
       "      <th>30107</th>\n",
       "      <td>wow...\\nare you out of your mind, how was my e...</td>\n",
       "      <td>0</td>\n",
       "    </tr>\n",
       "  </tbody>\n",
       "</table>\n",
       "<p>30108 rows × 2 columns</p>\n",
       "</div>"
      ],
      "text/plain": [
       "                                                       0  y\n",
       "0                This article sucks \\n\\nwoo woo wooooooo  0\n",
       "1      \"And yes, people should recognize that but the...  0\n",
       "2       Western Media?\\n\\nYup, because every crime in...  0\n",
       "3      And you removed it! You numbskull! I don't car...  0\n",
       "4       smelly vagina \\n\\nBluerasberry why don't you ...  0\n",
       "...                                                  ... ..\n",
       "30103  I'm sorry. I'm not an admin. I will give you t...  0\n",
       "30104  I'm sorry. I'm not an admin. I will give you t...  0\n",
       "30105  wow...\\nare you out of your mind, how was my e...  0\n",
       "30106  wow...\\nare you out of your mind, how was my e...  0\n",
       "30107  wow...\\nare you out of your mind, how was my e...  0\n",
       "\n",
       "[30108 rows x 2 columns]"
      ]
     },
     "execution_count": 6,
     "metadata": {},
     "output_type": "execute_result"
    }
   ],
   "source": [
    "less_tox"
   ]
  },
  {
   "cell_type": "code",
   "execution_count": 7,
   "id": "31c3b242",
   "metadata": {
    "execution": {
     "iopub.execute_input": "2022-02-05T09:04:03.788414Z",
     "iopub.status.busy": "2022-02-05T09:04:03.787665Z",
     "iopub.status.idle": "2022-02-05T09:04:03.791619Z",
     "shell.execute_reply": "2022-02-05T09:04:03.791104Z",
     "shell.execute_reply.started": "2022-02-05T08:41:23.294295Z"
    },
    "papermill": {
     "duration": 0.053463,
     "end_time": "2022-02-05T09:04:03.791789",
     "exception": false,
     "start_time": "2022-02-05T09:04:03.738326",
     "status": "completed"
    },
    "tags": []
   },
   "outputs": [
    {
     "data": {
      "text/html": [
       "<div>\n",
       "<style scoped>\n",
       "    .dataframe tbody tr th:only-of-type {\n",
       "        vertical-align: middle;\n",
       "    }\n",
       "\n",
       "    .dataframe tbody tr th {\n",
       "        vertical-align: top;\n",
       "    }\n",
       "\n",
       "    .dataframe thead th {\n",
       "        text-align: right;\n",
       "    }\n",
       "</style>\n",
       "<table border=\"1\" class=\"dataframe\">\n",
       "  <thead>\n",
       "    <tr style=\"text-align: right;\">\n",
       "      <th></th>\n",
       "      <th>0</th>\n",
       "      <th>y</th>\n",
       "    </tr>\n",
       "  </thead>\n",
       "  <tbody>\n",
       "    <tr>\n",
       "      <th>0</th>\n",
       "      <td>WHAT!!!!!!!!?!?!!?!?!!?!?!?!?!!!!!!!!!!!!!!!!!...</td>\n",
       "      <td>1</td>\n",
       "    </tr>\n",
       "    <tr>\n",
       "      <th>1</th>\n",
       "      <td>Daphne Guinness \\n\\nTop of the mornin' my fav...</td>\n",
       "      <td>1</td>\n",
       "    </tr>\n",
       "    <tr>\n",
       "      <th>2</th>\n",
       "      <td>\"Atom you don't believe actual photos of mastu...</td>\n",
       "      <td>1</td>\n",
       "    </tr>\n",
       "    <tr>\n",
       "      <th>3</th>\n",
       "      <td>You seem to have sand in your vagina.\\n\\nMight...</td>\n",
       "      <td>1</td>\n",
       "    </tr>\n",
       "    <tr>\n",
       "      <th>4</th>\n",
       "      <td>hey \\n\\nway to support nazis, you racist</td>\n",
       "      <td>1</td>\n",
       "    </tr>\n",
       "    <tr>\n",
       "      <th>...</th>\n",
       "      <td>...</td>\n",
       "      <td>...</td>\n",
       "    </tr>\n",
       "    <tr>\n",
       "      <th>30103</th>\n",
       "      <td>get out my large penis</td>\n",
       "      <td>1</td>\n",
       "    </tr>\n",
       "    <tr>\n",
       "      <th>30104</th>\n",
       "      <td>get out my large penis</td>\n",
       "      <td>1</td>\n",
       "    </tr>\n",
       "    <tr>\n",
       "      <th>30105</th>\n",
       "      <td>Piss off you slant eyed-gook</td>\n",
       "      <td>1</td>\n",
       "    </tr>\n",
       "    <tr>\n",
       "      <th>30106</th>\n",
       "      <td>Piss off you slant eyed-gook</td>\n",
       "      <td>1</td>\n",
       "    </tr>\n",
       "    <tr>\n",
       "      <th>30107</th>\n",
       "      <td>Piss off you slant eyed-gook</td>\n",
       "      <td>1</td>\n",
       "    </tr>\n",
       "  </tbody>\n",
       "</table>\n",
       "<p>30108 rows × 2 columns</p>\n",
       "</div>"
      ],
      "text/plain": [
       "                                                       0  y\n",
       "0      WHAT!!!!!!!!?!?!!?!?!!?!?!?!?!!!!!!!!!!!!!!!!!...  1\n",
       "1       Daphne Guinness \\n\\nTop of the mornin' my fav...  1\n",
       "2      \"Atom you don't believe actual photos of mastu...  1\n",
       "3      You seem to have sand in your vagina.\\n\\nMight...  1\n",
       "4               hey \\n\\nway to support nazis, you racist  1\n",
       "...                                                  ... ..\n",
       "30103                             get out my large penis  1\n",
       "30104                             get out my large penis  1\n",
       "30105                       Piss off you slant eyed-gook  1\n",
       "30106                       Piss off you slant eyed-gook  1\n",
       "30107                       Piss off you slant eyed-gook  1\n",
       "\n",
       "[30108 rows x 2 columns]"
      ]
     },
     "execution_count": 7,
     "metadata": {},
     "output_type": "execute_result"
    }
   ],
   "source": [
    "more_tox['y'] = '1'\n",
    "more_tox\n"
   ]
  },
  {
   "cell_type": "code",
   "execution_count": 8,
   "id": "b9777b41",
   "metadata": {
    "execution": {
     "iopub.execute_input": "2022-02-05T09:04:03.877653Z",
     "iopub.status.busy": "2022-02-05T09:04:03.876952Z",
     "iopub.status.idle": "2022-02-05T09:04:03.879686Z",
     "shell.execute_reply": "2022-02-05T09:04:03.880188Z",
     "shell.execute_reply.started": "2022-02-05T08:41:23.309371Z"
    },
    "papermill": {
     "duration": 0.051651,
     "end_time": "2022-02-05T09:04:03.880377",
     "exception": false,
     "start_time": "2022-02-05T09:04:03.828726",
     "status": "completed"
    },
    "tags": []
   },
   "outputs": [
    {
     "data": {
      "text/html": [
       "<div>\n",
       "<style scoped>\n",
       "    .dataframe tbody tr th:only-of-type {\n",
       "        vertical-align: middle;\n",
       "    }\n",
       "\n",
       "    .dataframe tbody tr th {\n",
       "        vertical-align: top;\n",
       "    }\n",
       "\n",
       "    .dataframe thead th {\n",
       "        text-align: right;\n",
       "    }\n",
       "</style>\n",
       "<table border=\"1\" class=\"dataframe\">\n",
       "  <thead>\n",
       "    <tr style=\"text-align: right;\">\n",
       "      <th></th>\n",
       "      <th>text</th>\n",
       "      <th>y</th>\n",
       "    </tr>\n",
       "  </thead>\n",
       "  <tbody>\n",
       "    <tr>\n",
       "      <th>0</th>\n",
       "      <td>WHAT!!!!!!!!?!?!!?!?!!?!?!?!?!!!!!!!!!!!!!!!!!...</td>\n",
       "      <td>1</td>\n",
       "    </tr>\n",
       "  </tbody>\n",
       "</table>\n",
       "</div>"
      ],
      "text/plain": [
       "                                                text  y\n",
       "0  WHAT!!!!!!!!?!?!!?!?!!?!?!?!?!!!!!!!!!!!!!!!!!...  1"
      ]
     },
     "execution_count": 8,
     "metadata": {},
     "output_type": "execute_result"
    }
   ],
   "source": [
    "more_tox.columns=['text','y']\n",
    "more_tox.head(1)"
   ]
  },
  {
   "cell_type": "code",
   "execution_count": 9,
   "id": "94f2cbfc",
   "metadata": {
    "execution": {
     "iopub.execute_input": "2022-02-05T09:04:03.965972Z",
     "iopub.status.busy": "2022-02-05T09:04:03.965268Z",
     "iopub.status.idle": "2022-02-05T09:04:03.968217Z",
     "shell.execute_reply": "2022-02-05T09:04:03.968753Z",
     "shell.execute_reply.started": "2022-02-05T08:41:23.327599Z"
    },
    "papermill": {
     "duration": 0.051205,
     "end_time": "2022-02-05T09:04:03.968961",
     "exception": false,
     "start_time": "2022-02-05T09:04:03.917756",
     "status": "completed"
    },
    "tags": []
   },
   "outputs": [
    {
     "data": {
      "text/html": [
       "<div>\n",
       "<style scoped>\n",
       "    .dataframe tbody tr th:only-of-type {\n",
       "        vertical-align: middle;\n",
       "    }\n",
       "\n",
       "    .dataframe tbody tr th {\n",
       "        vertical-align: top;\n",
       "    }\n",
       "\n",
       "    .dataframe thead th {\n",
       "        text-align: right;\n",
       "    }\n",
       "</style>\n",
       "<table border=\"1\" class=\"dataframe\">\n",
       "  <thead>\n",
       "    <tr style=\"text-align: right;\">\n",
       "      <th></th>\n",
       "      <th>text</th>\n",
       "      <th>y</th>\n",
       "    </tr>\n",
       "  </thead>\n",
       "  <tbody>\n",
       "    <tr>\n",
       "      <th>0</th>\n",
       "      <td>This article sucks \\n\\nwoo woo wooooooo</td>\n",
       "      <td>0</td>\n",
       "    </tr>\n",
       "  </tbody>\n",
       "</table>\n",
       "</div>"
      ],
      "text/plain": [
       "                                       text  y\n",
       "0   This article sucks \\n\\nwoo woo wooooooo  0"
      ]
     },
     "execution_count": 9,
     "metadata": {},
     "output_type": "execute_result"
    }
   ],
   "source": [
    "less_tox.columns=['text','y']\n",
    "less_tox.head(1)"
   ]
  },
  {
   "cell_type": "code",
   "execution_count": 10,
   "id": "4e1715f8",
   "metadata": {
    "execution": {
     "iopub.execute_input": "2022-02-05T09:04:04.053681Z",
     "iopub.status.busy": "2022-02-05T09:04:04.052876Z",
     "iopub.status.idle": "2022-02-05T09:04:04.056601Z",
     "shell.execute_reply": "2022-02-05T09:04:04.057117Z",
     "shell.execute_reply.started": "2022-02-05T08:41:23.345650Z"
    },
    "papermill": {
     "duration": 0.049098,
     "end_time": "2022-02-05T09:04:04.057323",
     "exception": false,
     "start_time": "2022-02-05T09:04:04.008225",
     "status": "completed"
    },
    "tags": []
   },
   "outputs": [
    {
     "name": "stdout",
     "output_type": "stream",
     "text": [
      "(30108, 2)\n",
      "(30108, 2)\n"
     ]
    }
   ],
   "source": [
    "print(more_tox.shape)\n",
    "print(less_tox.shape)"
   ]
  },
  {
   "cell_type": "code",
   "execution_count": 11,
   "id": "c0376bf5",
   "metadata": {
    "execution": {
     "iopub.execute_input": "2022-02-05T09:04:04.140833Z",
     "iopub.status.busy": "2022-02-05T09:04:04.139814Z",
     "iopub.status.idle": "2022-02-05T09:04:04.156964Z",
     "shell.execute_reply": "2022-02-05T09:04:04.156410Z",
     "shell.execute_reply.started": "2022-02-05T08:41:23.352356Z"
    },
    "papermill": {
     "duration": 0.061276,
     "end_time": "2022-02-05T09:04:04.157151",
     "exception": false,
     "start_time": "2022-02-05T09:04:04.095875",
     "status": "completed"
    },
    "tags": []
   },
   "outputs": [
    {
     "data": {
      "text/html": [
       "<div>\n",
       "<style scoped>\n",
       "    .dataframe tbody tr th:only-of-type {\n",
       "        vertical-align: middle;\n",
       "    }\n",
       "\n",
       "    .dataframe tbody tr th {\n",
       "        vertical-align: top;\n",
       "    }\n",
       "\n",
       "    .dataframe thead th {\n",
       "        text-align: right;\n",
       "    }\n",
       "</style>\n",
       "<table border=\"1\" class=\"dataframe\">\n",
       "  <thead>\n",
       "    <tr style=\"text-align: right;\">\n",
       "      <th></th>\n",
       "      <th>text</th>\n",
       "      <th>y</th>\n",
       "    </tr>\n",
       "  </thead>\n",
       "  <tbody>\n",
       "    <tr>\n",
       "      <th>0</th>\n",
       "      <td>WHAT!!!!!!!!?!?!!?!?!!?!?!?!?!!!!!!!!!!!!!!!!!...</td>\n",
       "      <td>1</td>\n",
       "    </tr>\n",
       "    <tr>\n",
       "      <th>1</th>\n",
       "      <td>Daphne Guinness \\n\\nTop of the mornin' my fav...</td>\n",
       "      <td>1</td>\n",
       "    </tr>\n",
       "    <tr>\n",
       "      <th>2</th>\n",
       "      <td>\"Atom you don't believe actual photos of mastu...</td>\n",
       "      <td>1</td>\n",
       "    </tr>\n",
       "    <tr>\n",
       "      <th>3</th>\n",
       "      <td>You seem to have sand in your vagina.\\n\\nMight...</td>\n",
       "      <td>1</td>\n",
       "    </tr>\n",
       "    <tr>\n",
       "      <th>4</th>\n",
       "      <td>hey \\n\\nway to support nazis, you racist</td>\n",
       "      <td>1</td>\n",
       "    </tr>\n",
       "    <tr>\n",
       "      <th>...</th>\n",
       "      <td>...</td>\n",
       "      <td>...</td>\n",
       "    </tr>\n",
       "    <tr>\n",
       "      <th>30103</th>\n",
       "      <td>I'm sorry. I'm not an admin. I will give you t...</td>\n",
       "      <td>0</td>\n",
       "    </tr>\n",
       "    <tr>\n",
       "      <th>30104</th>\n",
       "      <td>I'm sorry. I'm not an admin. I will give you t...</td>\n",
       "      <td>0</td>\n",
       "    </tr>\n",
       "    <tr>\n",
       "      <th>30105</th>\n",
       "      <td>wow...\\nare you out of your mind, how was my e...</td>\n",
       "      <td>0</td>\n",
       "    </tr>\n",
       "    <tr>\n",
       "      <th>30106</th>\n",
       "      <td>wow...\\nare you out of your mind, how was my e...</td>\n",
       "      <td>0</td>\n",
       "    </tr>\n",
       "    <tr>\n",
       "      <th>30107</th>\n",
       "      <td>wow...\\nare you out of your mind, how was my e...</td>\n",
       "      <td>0</td>\n",
       "    </tr>\n",
       "  </tbody>\n",
       "</table>\n",
       "<p>60216 rows × 2 columns</p>\n",
       "</div>"
      ],
      "text/plain": [
       "                                                    text  y\n",
       "0      WHAT!!!!!!!!?!?!!?!?!!?!?!?!?!!!!!!!!!!!!!!!!!...  1\n",
       "1       Daphne Guinness \\n\\nTop of the mornin' my fav...  1\n",
       "2      \"Atom you don't believe actual photos of mastu...  1\n",
       "3      You seem to have sand in your vagina.\\n\\nMight...  1\n",
       "4               hey \\n\\nway to support nazis, you racist  1\n",
       "...                                                  ... ..\n",
       "30103  I'm sorry. I'm not an admin. I will give you t...  0\n",
       "30104  I'm sorry. I'm not an admin. I will give you t...  0\n",
       "30105  wow...\\nare you out of your mind, how was my e...  0\n",
       "30106  wow...\\nare you out of your mind, how was my e...  0\n",
       "30107  wow...\\nare you out of your mind, how was my e...  0\n",
       "\n",
       "[60216 rows x 2 columns]"
      ]
     },
     "execution_count": 11,
     "metadata": {},
     "output_type": "execute_result"
    }
   ],
   "source": [
    "messages2=pd.concat([more_tox,less_tox])\n",
    "messages2"
   ]
  },
  {
   "cell_type": "code",
   "execution_count": 12,
   "id": "4eaa55f1",
   "metadata": {
    "execution": {
     "iopub.execute_input": "2022-02-05T09:04:04.242757Z",
     "iopub.status.busy": "2022-02-05T09:04:04.241815Z",
     "iopub.status.idle": "2022-02-05T09:04:04.246045Z",
     "shell.execute_reply": "2022-02-05T09:04:04.246655Z",
     "shell.execute_reply.started": "2022-02-05T08:41:23.376324Z"
    },
    "papermill": {
     "duration": 0.051275,
     "end_time": "2022-02-05T09:04:04.246853",
     "exception": false,
     "start_time": "2022-02-05T09:04:04.195578",
     "status": "completed"
    },
    "tags": []
   },
   "outputs": [
    {
     "data": {
      "text/plain": [
       "text     This article sucks \\n\\nwoo woo wooooooo\n",
       "y                                              0\n",
       "Name: 0, dtype: object"
      ]
     },
     "execution_count": 12,
     "metadata": {},
     "output_type": "execute_result"
    }
   ],
   "source": [
    "messages2.iloc[30108]"
   ]
  },
  {
   "cell_type": "code",
   "execution_count": 13,
   "id": "88390dda",
   "metadata": {
    "execution": {
     "iopub.execute_input": "2022-02-05T09:04:04.340446Z",
     "iopub.status.busy": "2022-02-05T09:04:04.339295Z",
     "iopub.status.idle": "2022-02-05T09:04:04.342299Z",
     "shell.execute_reply": "2022-02-05T09:04:04.341702Z",
     "shell.execute_reply.started": "2022-02-05T08:41:23.385564Z"
    },
    "papermill": {
     "duration": 0.056384,
     "end_time": "2022-02-05T09:04:04.342476",
     "exception": false,
     "start_time": "2022-02-05T09:04:04.286092",
     "status": "completed"
    },
    "tags": []
   },
   "outputs": [],
   "source": [
    "#messages.sort_index()\n",
    "messages=messages2.reset_index(drop=True)"
   ]
  },
  {
   "cell_type": "code",
   "execution_count": 14,
   "id": "69a8d9cc",
   "metadata": {
    "execution": {
     "iopub.execute_input": "2022-02-05T09:04:04.440768Z",
     "iopub.status.busy": "2022-02-05T09:04:04.440106Z",
     "iopub.status.idle": "2022-02-05T09:04:04.457860Z",
     "shell.execute_reply": "2022-02-05T09:04:04.457052Z",
     "shell.execute_reply.started": "2022-02-05T08:41:23.402088Z"
    },
    "papermill": {
     "duration": 0.075424,
     "end_time": "2022-02-05T09:04:04.458085",
     "exception": false,
     "start_time": "2022-02-05T09:04:04.382661",
     "status": "completed"
    },
    "tags": []
   },
   "outputs": [
    {
     "name": "stdout",
     "output_type": "stream",
     "text": [
      "<class 'pandas.core.frame.DataFrame'>\n",
      "RangeIndex: 60216 entries, 0 to 60215\n",
      "Data columns (total 2 columns):\n",
      " #   Column  Non-Null Count  Dtype \n",
      "---  ------  --------------  ----- \n",
      " 0   text    60216 non-null  object\n",
      " 1   y       60216 non-null  object\n",
      "dtypes: object(2)\n",
      "memory usage: 941.0+ KB\n"
     ]
    }
   ],
   "source": [
    "messages.info()"
   ]
  },
  {
   "cell_type": "code",
   "execution_count": 15,
   "id": "b95f79ce",
   "metadata": {
    "execution": {
     "iopub.execute_input": "2022-02-05T09:04:04.547589Z",
     "iopub.status.busy": "2022-02-05T09:04:04.546816Z",
     "iopub.status.idle": "2022-02-05T09:15:11.486784Z",
     "shell.execute_reply": "2022-02-05T09:15:11.485662Z",
     "shell.execute_reply.started": "2022-02-05T08:41:23.441096Z"
    },
    "papermill": {
     "duration": 666.989281,
     "end_time": "2022-02-05T09:15:11.487174",
     "exception": false,
     "start_time": "2022-02-05T09:04:04.497893",
     "status": "completed"
    },
    "tags": []
   },
   "outputs": [],
   "source": [
    "ps = PorterStemmer()\n",
    "corpus = []\n",
    "for i in range(0, len(messages)):\n",
    "    review = re.sub('[^a-zA-Z]', ' ',str(messages['text'][i])) \n",
    "    review = review.lower()\n",
    "    review = review.split()\n",
    "    \n",
    "    review = [ps.stem(word) for word in review if not word in stopwords.words('english')]\n",
    "    review = ' '.join(review)\n",
    "    corpus.append(review)\n",
    "    \n",
    "## Applying Countvectorizer\n",
    "# Creating the Bag of Words model\n",
    "from sklearn.feature_extraction.text import CountVectorizer\n",
    "cv = CountVectorizer(max_features=20000,ngram_range=(1,3))\n",
    "X = cv.fit_transform(corpus).toarray()    \n"
   ]
  },
  {
   "cell_type": "code",
   "execution_count": 16,
   "id": "68596588",
   "metadata": {
    "execution": {
     "iopub.execute_input": "2022-02-05T09:15:11.574513Z",
     "iopub.status.busy": "2022-02-05T09:15:11.573823Z",
     "iopub.status.idle": "2022-02-05T09:15:11.576500Z",
     "shell.execute_reply": "2022-02-05T09:15:11.575957Z",
     "shell.execute_reply.started": "2022-02-05T08:52:40.839516Z"
    },
    "papermill": {
     "duration": 0.047654,
     "end_time": "2022-02-05T09:15:11.576643",
     "exception": false,
     "start_time": "2022-02-05T09:15:11.528989",
     "status": "completed"
    },
    "tags": []
   },
   "outputs": [],
   "source": [
    "y=messages['y']\n"
   ]
  },
  {
   "cell_type": "code",
   "execution_count": 17,
   "id": "eacaaaaf",
   "metadata": {
    "execution": {
     "iopub.execute_input": "2022-02-05T09:15:11.659884Z",
     "iopub.status.busy": "2022-02-05T09:15:11.658887Z",
     "iopub.status.idle": "2022-02-05T09:15:11.661371Z",
     "shell.execute_reply": "2022-02-05T09:15:11.661811Z",
     "shell.execute_reply.started": "2022-02-05T08:52:40.903240Z"
    },
    "papermill": {
     "duration": 0.046295,
     "end_time": "2022-02-05T09:15:11.661978",
     "exception": false,
     "start_time": "2022-02-05T09:15:11.615683",
     "status": "completed"
    },
    "tags": []
   },
   "outputs": [],
   "source": [
    "#np.save(\"y.npy\", y)\n"
   ]
  },
  {
   "cell_type": "code",
   "execution_count": 18,
   "id": "c93ec488",
   "metadata": {
    "execution": {
     "iopub.execute_input": "2022-02-05T09:15:11.748596Z",
     "iopub.status.busy": "2022-02-05T09:15:11.747732Z",
     "iopub.status.idle": "2022-02-05T09:15:11.750933Z",
     "shell.execute_reply": "2022-02-05T09:15:11.751521Z",
     "shell.execute_reply.started": "2022-02-05T09:00:20.643472Z"
    },
    "papermill": {
     "duration": 0.048965,
     "end_time": "2022-02-05T09:15:11.751691",
     "exception": false,
     "start_time": "2022-02-05T09:15:11.702726",
     "status": "completed"
    },
    "tags": []
   },
   "outputs": [
    {
     "data": {
      "text/plain": [
       "'del corpus\\ndel messages'"
      ]
     },
     "execution_count": 18,
     "metadata": {},
     "output_type": "execute_result"
    }
   ],
   "source": [
    "\"\"\"del corpus\n",
    "del messages\"\"\""
   ]
  },
  {
   "cell_type": "code",
   "execution_count": 19,
   "id": "daa67cbf",
   "metadata": {
    "execution": {
     "iopub.execute_input": "2022-02-05T09:15:11.835693Z",
     "iopub.status.busy": "2022-02-05T09:15:11.834927Z",
     "iopub.status.idle": "2022-02-05T09:15:11.837490Z",
     "shell.execute_reply": "2022-02-05T09:15:11.836910Z",
     "shell.execute_reply.started": "2022-02-05T09:00:21.012777Z"
    },
    "papermill": {
     "duration": 0.046568,
     "end_time": "2022-02-05T09:15:11.837630",
     "exception": false,
     "start_time": "2022-02-05T09:15:11.791062",
     "status": "completed"
    },
    "tags": []
   },
   "outputs": [],
   "source": [
    "#np.save(\"X.npy\", X)\n",
    "\n",
    "#loaded_array = np.load(\"X.npy\")"
   ]
  },
  {
   "cell_type": "code",
   "execution_count": 20,
   "id": "4e54fe8a",
   "metadata": {
    "execution": {
     "iopub.execute_input": "2022-02-05T09:15:11.920136Z",
     "iopub.status.busy": "2022-02-05T09:15:11.918651Z",
     "iopub.status.idle": "2022-02-05T09:15:11.922411Z",
     "shell.execute_reply": "2022-02-05T09:15:11.922990Z",
     "shell.execute_reply.started": "2022-02-05T09:00:21.607708Z"
    },
    "papermill": {
     "duration": 0.046535,
     "end_time": "2022-02-05T09:15:11.923180",
     "exception": false,
     "start_time": "2022-02-05T09:15:11.876645",
     "status": "completed"
    },
    "tags": []
   },
   "outputs": [],
   "source": [
    "#X = np.load('../input/notebookf4f9440013/X.npy')"
   ]
  },
  {
   "cell_type": "code",
   "execution_count": 21,
   "id": "b74fd03b",
   "metadata": {
    "execution": {
     "iopub.execute_input": "2022-02-05T09:15:12.005263Z",
     "iopub.status.busy": "2022-02-05T09:15:12.004574Z",
     "iopub.status.idle": "2022-02-05T09:15:18.688576Z",
     "shell.execute_reply": "2022-02-05T09:15:18.689202Z",
     "shell.execute_reply.started": "2022-02-05T09:00:22.442136Z"
    },
    "papermill": {
     "duration": 6.726869,
     "end_time": "2022-02-05T09:15:18.689418",
     "exception": false,
     "start_time": "2022-02-05T09:15:11.962549",
     "status": "completed"
    },
    "tags": []
   },
   "outputs": [],
   "source": [
    "## Divide the dataset into Train and Test\n",
    "from sklearn.model_selection import train_test_split\n",
    "X_train, X_test, y_train, y_test = train_test_split(X, y, test_size=0.25, random_state=42)"
   ]
  },
  {
   "cell_type": "code",
   "execution_count": 22,
   "id": "b2ac54c2",
   "metadata": {
    "execution": {
     "iopub.execute_input": "2022-02-05T09:15:18.774230Z",
     "iopub.status.busy": "2022-02-05T09:15:18.773415Z",
     "iopub.status.idle": "2022-02-05T09:15:18.775619Z",
     "shell.execute_reply": "2022-02-05T09:15:18.776203Z",
     "shell.execute_reply.started": "2022-02-05T09:00:28.334766Z"
    },
    "papermill": {
     "duration": 0.047332,
     "end_time": "2022-02-05T09:15:18.776408",
     "exception": false,
     "start_time": "2022-02-05T09:15:18.729076",
     "status": "completed"
    },
    "tags": []
   },
   "outputs": [],
   "source": [
    "import numpy as np\n",
    "#np.save(\"X_train.npy\", X_train)\n",
    "#np.save(\"X_test.npy\", X_test)\n",
    "#np.save(\"y_train.npy\", y_train)\n",
    "#np.save(\"y_test.npy\", y_test)\n"
   ]
  },
  {
   "cell_type": "code",
   "execution_count": 23,
   "id": "59f0508a",
   "metadata": {
    "execution": {
     "iopub.execute_input": "2022-02-05T09:15:18.859501Z",
     "iopub.status.busy": "2022-02-05T09:15:18.858619Z",
     "iopub.status.idle": "2022-02-05T09:15:19.057579Z",
     "shell.execute_reply": "2022-02-05T09:15:19.058066Z",
     "shell.execute_reply.started": "2022-02-05T09:00:28.340943Z"
    },
    "papermill": {
     "duration": 0.241598,
     "end_time": "2022-02-05T09:15:19.058251",
     "exception": false,
     "start_time": "2022-02-05T09:15:18.816653",
     "status": "completed"
    },
    "tags": []
   },
   "outputs": [],
   "source": [
    "del X"
   ]
  },
  {
   "cell_type": "code",
   "execution_count": 24,
   "id": "135e3399",
   "metadata": {
    "execution": {
     "iopub.execute_input": "2022-02-05T09:15:19.139641Z",
     "iopub.status.busy": "2022-02-05T09:15:19.138727Z",
     "iopub.status.idle": "2022-02-05T09:15:19.172349Z",
     "shell.execute_reply": "2022-02-05T09:15:19.172838Z",
     "shell.execute_reply.started": "2022-02-05T09:00:40.772497Z"
    },
    "papermill": {
     "duration": 0.075969,
     "end_time": "2022-02-05T09:15:19.173016",
     "exception": false,
     "start_time": "2022-02-05T09:15:19.097047",
     "status": "completed"
    },
    "tags": []
   },
   "outputs": [
    {
     "data": {
      "text/plain": [
       "['aa',\n",
       " 'aaron',\n",
       " 'ab',\n",
       " 'abandon',\n",
       " 'abbr',\n",
       " 'abc',\n",
       " 'abd',\n",
       " 'abduct',\n",
       " 'abdul',\n",
       " 'abe',\n",
       " 'abe gay',\n",
       " 'abhorr',\n",
       " 'abid',\n",
       " 'abil',\n",
       " 'abl',\n",
       " 'abl edit',\n",
       " 'abl edit page',\n",
       " 'abl get',\n",
       " 'abl respond',\n",
       " 'abl use']"
      ]
     },
     "execution_count": 24,
     "metadata": {},
     "output_type": "execute_result"
    }
   ],
   "source": [
    "cv.get_feature_names()[:20]\n"
   ]
  },
  {
   "cell_type": "code",
   "execution_count": 25,
   "id": "4a9bb388",
   "metadata": {
    "execution": {
     "iopub.execute_input": "2022-02-05T09:15:19.254595Z",
     "iopub.status.busy": "2022-02-05T09:15:19.253684Z",
     "iopub.status.idle": "2022-02-05T09:15:19.259588Z",
     "shell.execute_reply": "2022-02-05T09:15:19.260038Z",
     "shell.execute_reply.started": "2022-02-05T09:00:41.092861Z"
    },
    "papermill": {
     "duration": 0.048351,
     "end_time": "2022-02-05T09:15:19.260204",
     "exception": false,
     "start_time": "2022-02-05T09:15:19.211853",
     "status": "completed"
    },
    "tags": []
   },
   "outputs": [
    {
     "data": {
      "text/plain": [
       "{'analyzer': 'word',\n",
       " 'binary': False,\n",
       " 'decode_error': 'strict',\n",
       " 'dtype': numpy.int64,\n",
       " 'encoding': 'utf-8',\n",
       " 'input': 'content',\n",
       " 'lowercase': True,\n",
       " 'max_df': 1.0,\n",
       " 'max_features': 20000,\n",
       " 'min_df': 1,\n",
       " 'ngram_range': (1, 3),\n",
       " 'preprocessor': None,\n",
       " 'stop_words': None,\n",
       " 'strip_accents': None,\n",
       " 'token_pattern': '(?u)\\\\b\\\\w\\\\w+\\\\b',\n",
       " 'tokenizer': None,\n",
       " 'vocabulary': None}"
      ]
     },
     "execution_count": 25,
     "metadata": {},
     "output_type": "execute_result"
    }
   ],
   "source": [
    "cv.get_params()"
   ]
  },
  {
   "cell_type": "code",
   "execution_count": 26,
   "id": "a0b1d3d9",
   "metadata": {
    "execution": {
     "iopub.execute_input": "2022-02-05T09:15:19.343120Z",
     "iopub.status.busy": "2022-02-05T09:15:19.342195Z",
     "iopub.status.idle": "2022-02-05T09:15:19.374907Z",
     "shell.execute_reply": "2022-02-05T09:15:19.375389Z",
     "shell.execute_reply.started": "2022-02-05T09:00:41.632960Z"
    },
    "papermill": {
     "duration": 0.076287,
     "end_time": "2022-02-05T09:15:19.375577",
     "exception": false,
     "start_time": "2022-02-05T09:15:19.299290",
     "status": "completed"
    },
    "tags": []
   },
   "outputs": [],
   "source": [
    "count_df = pd.DataFrame(X_train, columns=cv.get_feature_names())\n"
   ]
  },
  {
   "cell_type": "code",
   "execution_count": 27,
   "id": "dc92d5bb",
   "metadata": {
    "execution": {
     "iopub.execute_input": "2022-02-05T09:15:19.457542Z",
     "iopub.status.busy": "2022-02-05T09:15:19.456653Z",
     "iopub.status.idle": "2022-02-05T09:15:19.478685Z",
     "shell.execute_reply": "2022-02-05T09:15:19.478176Z",
     "shell.execute_reply.started": "2022-02-05T09:00:41.922545Z"
    },
    "papermill": {
     "duration": 0.06401,
     "end_time": "2022-02-05T09:15:19.478826",
     "exception": false,
     "start_time": "2022-02-05T09:15:19.414816",
     "status": "completed"
    },
    "tags": []
   },
   "outputs": [
    {
     "data": {
      "text/html": [
       "<div>\n",
       "<style scoped>\n",
       "    .dataframe tbody tr th:only-of-type {\n",
       "        vertical-align: middle;\n",
       "    }\n",
       "\n",
       "    .dataframe tbody tr th {\n",
       "        vertical-align: top;\n",
       "    }\n",
       "\n",
       "    .dataframe thead th {\n",
       "        text-align: right;\n",
       "    }\n",
       "</style>\n",
       "<table border=\"1\" class=\"dataframe\">\n",
       "  <thead>\n",
       "    <tr style=\"text-align: right;\">\n",
       "      <th></th>\n",
       "      <th>aa</th>\n",
       "      <th>aaron</th>\n",
       "      <th>ab</th>\n",
       "      <th>abandon</th>\n",
       "      <th>abbr</th>\n",
       "      <th>abc</th>\n",
       "      <th>abd</th>\n",
       "      <th>abduct</th>\n",
       "      <th>abdul</th>\n",
       "      <th>abe</th>\n",
       "      <th>...</th>\n",
       "      <th>zigz</th>\n",
       "      <th>zigz gger</th>\n",
       "      <th>zion</th>\n",
       "      <th>zionism</th>\n",
       "      <th>zionist</th>\n",
       "      <th>zip</th>\n",
       "      <th>zoe</th>\n",
       "      <th>zombi</th>\n",
       "      <th>zone</th>\n",
       "      <th>zoo</th>\n",
       "    </tr>\n",
       "  </thead>\n",
       "  <tbody>\n",
       "    <tr>\n",
       "      <th>0</th>\n",
       "      <td>0</td>\n",
       "      <td>0</td>\n",
       "      <td>0</td>\n",
       "      <td>0</td>\n",
       "      <td>0</td>\n",
       "      <td>0</td>\n",
       "      <td>0</td>\n",
       "      <td>0</td>\n",
       "      <td>0</td>\n",
       "      <td>0</td>\n",
       "      <td>...</td>\n",
       "      <td>0</td>\n",
       "      <td>0</td>\n",
       "      <td>0</td>\n",
       "      <td>0</td>\n",
       "      <td>0</td>\n",
       "      <td>0</td>\n",
       "      <td>0</td>\n",
       "      <td>0</td>\n",
       "      <td>0</td>\n",
       "      <td>0</td>\n",
       "    </tr>\n",
       "    <tr>\n",
       "      <th>1</th>\n",
       "      <td>0</td>\n",
       "      <td>0</td>\n",
       "      <td>0</td>\n",
       "      <td>0</td>\n",
       "      <td>0</td>\n",
       "      <td>0</td>\n",
       "      <td>0</td>\n",
       "      <td>0</td>\n",
       "      <td>0</td>\n",
       "      <td>0</td>\n",
       "      <td>...</td>\n",
       "      <td>0</td>\n",
       "      <td>0</td>\n",
       "      <td>0</td>\n",
       "      <td>0</td>\n",
       "      <td>0</td>\n",
       "      <td>0</td>\n",
       "      <td>0</td>\n",
       "      <td>0</td>\n",
       "      <td>0</td>\n",
       "      <td>0</td>\n",
       "    </tr>\n",
       "    <tr>\n",
       "      <th>2</th>\n",
       "      <td>0</td>\n",
       "      <td>0</td>\n",
       "      <td>0</td>\n",
       "      <td>0</td>\n",
       "      <td>0</td>\n",
       "      <td>0</td>\n",
       "      <td>0</td>\n",
       "      <td>0</td>\n",
       "      <td>0</td>\n",
       "      <td>0</td>\n",
       "      <td>...</td>\n",
       "      <td>0</td>\n",
       "      <td>0</td>\n",
       "      <td>0</td>\n",
       "      <td>0</td>\n",
       "      <td>0</td>\n",
       "      <td>0</td>\n",
       "      <td>0</td>\n",
       "      <td>0</td>\n",
       "      <td>0</td>\n",
       "      <td>0</td>\n",
       "    </tr>\n",
       "    <tr>\n",
       "      <th>3</th>\n",
       "      <td>0</td>\n",
       "      <td>0</td>\n",
       "      <td>0</td>\n",
       "      <td>0</td>\n",
       "      <td>0</td>\n",
       "      <td>0</td>\n",
       "      <td>0</td>\n",
       "      <td>0</td>\n",
       "      <td>0</td>\n",
       "      <td>0</td>\n",
       "      <td>...</td>\n",
       "      <td>0</td>\n",
       "      <td>0</td>\n",
       "      <td>0</td>\n",
       "      <td>0</td>\n",
       "      <td>0</td>\n",
       "      <td>0</td>\n",
       "      <td>0</td>\n",
       "      <td>0</td>\n",
       "      <td>0</td>\n",
       "      <td>0</td>\n",
       "    </tr>\n",
       "    <tr>\n",
       "      <th>4</th>\n",
       "      <td>0</td>\n",
       "      <td>0</td>\n",
       "      <td>0</td>\n",
       "      <td>0</td>\n",
       "      <td>0</td>\n",
       "      <td>0</td>\n",
       "      <td>0</td>\n",
       "      <td>0</td>\n",
       "      <td>0</td>\n",
       "      <td>0</td>\n",
       "      <td>...</td>\n",
       "      <td>0</td>\n",
       "      <td>0</td>\n",
       "      <td>0</td>\n",
       "      <td>0</td>\n",
       "      <td>0</td>\n",
       "      <td>0</td>\n",
       "      <td>0</td>\n",
       "      <td>0</td>\n",
       "      <td>0</td>\n",
       "      <td>0</td>\n",
       "    </tr>\n",
       "  </tbody>\n",
       "</table>\n",
       "<p>5 rows × 20000 columns</p>\n",
       "</div>"
      ],
      "text/plain": [
       "   aa  aaron  ab  abandon  abbr  abc  abd  abduct  abdul  abe  ...  zigz  \\\n",
       "0   0      0   0        0     0    0    0       0      0    0  ...     0   \n",
       "1   0      0   0        0     0    0    0       0      0    0  ...     0   \n",
       "2   0      0   0        0     0    0    0       0      0    0  ...     0   \n",
       "3   0      0   0        0     0    0    0       0      0    0  ...     0   \n",
       "4   0      0   0        0     0    0    0       0      0    0  ...     0   \n",
       "\n",
       "   zigz gger  zion  zionism  zionist  zip  zoe  zombi  zone  zoo  \n",
       "0          0     0        0        0    0    0      0     0    0  \n",
       "1          0     0        0        0    0    0      0     0    0  \n",
       "2          0     0        0        0    0    0      0     0    0  \n",
       "3          0     0        0        0    0    0      0     0    0  \n",
       "4          0     0        0        0    0    0      0     0    0  \n",
       "\n",
       "[5 rows x 20000 columns]"
      ]
     },
     "execution_count": 27,
     "metadata": {},
     "output_type": "execute_result"
    }
   ],
   "source": [
    "count_df.head()\n"
   ]
  },
  {
   "cell_type": "code",
   "execution_count": 28,
   "id": "154c9eea",
   "metadata": {
    "execution": {
     "iopub.execute_input": "2022-02-05T09:15:19.570186Z",
     "iopub.status.busy": "2022-02-05T09:15:19.569501Z",
     "iopub.status.idle": "2022-02-05T09:15:19.571332Z",
     "shell.execute_reply": "2022-02-05T09:15:19.571899Z",
     "shell.execute_reply.started": "2022-02-05T09:00:42.952506Z"
    },
    "papermill": {
     "duration": 0.053364,
     "end_time": "2022-02-05T09:15:19.572098",
     "exception": false,
     "start_time": "2022-02-05T09:15:19.518734",
     "status": "completed"
    },
    "tags": []
   },
   "outputs": [],
   "source": [
    "import matplotlib.pyplot as plt\n",
    "def plot_confusion_matrix(cm, classes,\n",
    "                          normalize=False,\n",
    "                          title='Confusion matrix',\n",
    "                          cmap=plt.cm.Blues):\n",
    "    \"\"\"\n",
    "    See full source and example: \n",
    "    http://scikit-learn.org/stable/auto_examples/model_selection/plot_confusion_matrix.html\n",
    "    \n",
    "    This function prints and plots the confusion matrix.\n",
    "    Normalization can be applied by setting `normalize=True`.\n",
    "    \"\"\"\n",
    "    plt.imshow(cm, interpolation='nearest', cmap=cmap)\n",
    "    plt.title(title)\n",
    "    plt.colorbar()\n",
    "    tick_marks = np.arange(len(classes))\n",
    "    plt.xticks(tick_marks, classes, rotation=45)\n",
    "    plt.yticks(tick_marks, classes)\n",
    "\n",
    "    if normalize:\n",
    "        cm = cm.astype('float') / cm.sum(axis=1)[:, np.newaxis]\n",
    "        print(\"Normalized confusion matrix\")\n",
    "    else:\n",
    "        print('Confusion matrix, without normalization')\n",
    "\n",
    "    thresh = cm.max() / 2.\n",
    "    for i, j in itertools.product(range(cm.shape[0]), range(cm.shape[1])):\n",
    "        plt.text(j, i, cm[i, j],\n",
    "                 horizontalalignment=\"center\",\n",
    "                 color=\"white\" if cm[i, j] > thresh else \"black\")\n",
    "\n",
    "    plt.tight_layout()\n",
    "    plt.ylabel('True label')\n",
    "    plt.xlabel('Predicted label')"
   ]
  },
  {
   "cell_type": "code",
   "execution_count": 29,
   "id": "d2383f2c",
   "metadata": {
    "execution": {
     "iopub.execute_input": "2022-02-05T09:15:19.657661Z",
     "iopub.status.busy": "2022-02-05T09:15:19.657035Z",
     "iopub.status.idle": "2022-02-05T09:15:19.665769Z",
     "shell.execute_reply": "2022-02-05T09:15:19.665117Z",
     "shell.execute_reply.started": "2022-02-05T09:00:44.487549Z"
    },
    "papermill": {
     "duration": 0.05406,
     "end_time": "2022-02-05T09:15:19.665909",
     "exception": false,
     "start_time": "2022-02-05T09:15:19.611849",
     "status": "completed"
    },
    "tags": []
   },
   "outputs": [],
   "source": [
    "from sklearn.naive_bayes import MultinomialNB\n",
    "classifier=MultinomialNB()\n"
   ]
  },
  {
   "cell_type": "code",
   "execution_count": 30,
   "id": "09336953",
   "metadata": {
    "execution": {
     "iopub.execute_input": "2022-02-05T09:15:19.758901Z",
     "iopub.status.busy": "2022-02-05T09:15:19.758246Z",
     "iopub.status.idle": "2022-02-05T09:15:38.523143Z",
     "shell.execute_reply": "2022-02-05T09:15:38.523659Z",
     "shell.execute_reply.started": "2022-02-05T09:00:45.602204Z"
    },
    "papermill": {
     "duration": 18.814444,
     "end_time": "2022-02-05T09:15:38.523852",
     "exception": false,
     "start_time": "2022-02-05T09:15:19.709408",
     "status": "completed"
    },
    "tags": []
   },
   "outputs": [
    {
     "name": "stdout",
     "output_type": "stream",
     "text": [
      "accuracy:   0.606\n",
      "Confusion matrix, without normalization\n"
     ]
    },
    {
     "data": {
      "image/png": "[encoded data removed]",
      "text/plain": [
       "<Figure size 432x288 with 2 Axes>"
      ]
     },
     "metadata": {
      "needs_background": "light"
     },
     "output_type": "display_data"
    }
   ],
   "source": [
    "from sklearn import metrics\n",
    "import numpy as np\n",
    "import itertools\n",
    "model1=classifier.fit(X_train, y_train)\n",
    "pred = classifier.predict(X_test)\n",
    "score = metrics.accuracy_score(y_test, pred)\n",
    "print(\"accuracy:   %0.3f\" % score)\n",
    "cm = metrics.confusion_matrix(y_test, pred)\n",
    "plot_confusion_matrix(cm, classes=['less', 'more'])"
   ]
  },
  {
   "cell_type": "code",
   "execution_count": 31,
   "id": "25ff9a72",
   "metadata": {
    "execution": {
     "iopub.execute_input": "2022-02-05T09:15:38.612333Z",
     "iopub.status.busy": "2022-02-05T09:15:38.611422Z",
     "iopub.status.idle": "2022-02-05T09:15:38.614372Z",
     "shell.execute_reply": "2022-02-05T09:15:38.614962Z",
     "shell.execute_reply.started": "2022-02-05T09:01:02.869484Z"
    },
    "papermill": {
     "duration": 0.049174,
     "end_time": "2022-02-05T09:15:38.615166",
     "exception": false,
     "start_time": "2022-02-05T09:15:38.565992",
     "status": "completed"
    },
    "tags": []
   },
   "outputs": [],
   "source": [
    "#model1.save(model1)"
   ]
  },
  {
   "cell_type": "code",
   "execution_count": 32,
   "id": "7721b884",
   "metadata": {
    "execution": {
     "iopub.execute_input": "2022-02-05T09:15:38.767506Z",
     "iopub.status.busy": "2022-02-05T09:15:38.766429Z",
     "iopub.status.idle": "2022-02-05T09:15:58.072391Z",
     "shell.execute_reply": "2022-02-05T09:15:58.072908Z",
     "shell.execute_reply.started": "2022-02-05T09:01:02.875648Z"
    },
    "papermill": {
     "duration": 19.413975,
     "end_time": "2022-02-05T09:15:58.073184",
     "exception": false,
     "start_time": "2022-02-05T09:15:38.659209",
     "status": "completed"
    },
    "tags": []
   },
   "outputs": [
    {
     "data": {
      "text/plain": [
       "0.605619768832204"
      ]
     },
     "execution_count": 32,
     "metadata": {},
     "output_type": "execute_result"
    }
   ],
   "source": [
    "classifier.fit(X_train, y_train)\n",
    "pred = classifier.predict(X_test)\n",
    "score = metrics.accuracy_score(y_test, pred)\n",
    "score"
   ]
  },
  {
   "cell_type": "code",
   "execution_count": 33,
   "id": "3dc4b027",
   "metadata": {
    "execution": {
     "iopub.execute_input": "2022-02-05T09:15:58.163811Z",
     "iopub.status.busy": "2022-02-05T09:15:58.162770Z",
     "iopub.status.idle": "2022-02-05T09:15:58.167866Z",
     "shell.execute_reply": "2022-02-05T09:15:58.168422Z",
     "shell.execute_reply.started": "2022-02-05T09:01:25.349114Z"
    },
    "papermill": {
     "duration": 0.051957,
     "end_time": "2022-02-05T09:15:58.168605",
     "exception": false,
     "start_time": "2022-02-05T09:15:58.116648",
     "status": "completed"
    },
    "tags": []
   },
   "outputs": [
    {
     "data": {
      "text/plain": [
       "(45162,)"
      ]
     },
     "execution_count": 33,
     "metadata": {},
     "output_type": "execute_result"
    }
   ],
   "source": [
    "y_train.shape\n"
   ]
  },
  {
   "cell_type": "code",
   "execution_count": 34,
   "id": "dcb5d096",
   "metadata": {
    "execution": {
     "iopub.execute_input": "2022-02-05T09:15:58.256462Z",
     "iopub.status.busy": "2022-02-05T09:15:58.255819Z",
     "iopub.status.idle": "2022-02-05T09:15:58.261024Z",
     "shell.execute_reply": "2022-02-05T09:15:58.261647Z"
    },
    "papermill": {
     "duration": 0.051485,
     "end_time": "2022-02-05T09:15:58.261820",
     "exception": false,
     "start_time": "2022-02-05T09:15:58.210335",
     "status": "completed"
    },
    "tags": []
   },
   "outputs": [
    {
     "data": {
      "text/plain": [
       "'from sklearn.linear_model import PassiveAggressiveClassifier\\nlinear_clf = PassiveAggressiveClassifier()\\nlinear_clf.fit(X_train, y_train)\\npred = linear_clf.predict(X_test)\\nscore = metrics.accuracy_score(y_test, pred)\\nprint(\"accuracy:   %0.3f\" % score)\\ncm = metrics.confusion_matrix(y_test, pred)\\nplot_confusion_matrix(cm, classes=[\\'FAKE Data\\', \\'REAL Data\\'])'"
      ]
     },
     "execution_count": 34,
     "metadata": {},
     "output_type": "execute_result"
    }
   ],
   "source": [
    "\"\"\"from sklearn.linear_model import PassiveAggressiveClassifier\n",
    "linear_clf = PassiveAggressiveClassifier()\n",
    "linear_clf.fit(X_train, y_train)\n",
    "pred = linear_clf.predict(X_test)\n",
    "score = metrics.accuracy_score(y_test, pred)\n",
    "print(\"accuracy:   %0.3f\" % score)\n",
    "cm = metrics.confusion_matrix(y_test, pred)\n",
    "plot_confusion_matrix(cm, classes=['FAKE Data', 'REAL Data'])\"\"\""
   ]
  },
  {
   "cell_type": "code",
   "execution_count": 35,
   "id": "e14d03a8",
   "metadata": {
    "execution": {
     "iopub.execute_input": "2022-02-05T09:15:58.350144Z",
     "iopub.status.busy": "2022-02-05T09:15:58.349487Z",
     "iopub.status.idle": "2022-02-05T09:15:58.458693Z",
     "shell.execute_reply": "2022-02-05T09:15:58.459215Z"
    },
    "papermill": {
     "duration": 0.155485,
     "end_time": "2022-02-05T09:15:58.459389",
     "exception": false,
     "start_time": "2022-02-05T09:15:58.303904",
     "status": "completed"
    },
    "tags": []
   },
   "outputs": [
    {
     "data": {
      "text/html": [
       "<div>\n",
       "<style scoped>\n",
       "    .dataframe tbody tr th:only-of-type {\n",
       "        vertical-align: middle;\n",
       "    }\n",
       "\n",
       "    .dataframe tbody tr th {\n",
       "        vertical-align: top;\n",
       "    }\n",
       "\n",
       "    .dataframe thead th {\n",
       "        text-align: right;\n",
       "    }\n",
       "</style>\n",
       "<table border=\"1\" class=\"dataframe\">\n",
       "  <thead>\n",
       "    <tr style=\"text-align: right;\">\n",
       "      <th></th>\n",
       "      <th>comment_id</th>\n",
       "      <th>text</th>\n",
       "    </tr>\n",
       "  </thead>\n",
       "  <tbody>\n",
       "    <tr>\n",
       "      <th>0</th>\n",
       "      <td>114890</td>\n",
       "      <td>\"\\n \\n\\nGjalexei, you asked about whether ther...</td>\n",
       "    </tr>\n",
       "    <tr>\n",
       "      <th>1</th>\n",
       "      <td>732895</td>\n",
       "      <td>Looks like be have an abuser , can you please ...</td>\n",
       "    </tr>\n",
       "    <tr>\n",
       "      <th>2</th>\n",
       "      <td>1139051</td>\n",
       "      <td>I confess to having complete (and apparently b...</td>\n",
       "    </tr>\n",
       "    <tr>\n",
       "      <th>3</th>\n",
       "      <td>1434512</td>\n",
       "      <td>\"\\n\\nFreud's ideas are certainly much discusse...</td>\n",
       "    </tr>\n",
       "    <tr>\n",
       "      <th>4</th>\n",
       "      <td>2084821</td>\n",
       "      <td>It is not just you. This is a laundry list of ...</td>\n",
       "    </tr>\n",
       "  </tbody>\n",
       "</table>\n",
       "</div>"
      ],
      "text/plain": [
       "   comment_id                                               text\n",
       "0      114890  \"\\n \\n\\nGjalexei, you asked about whether ther...\n",
       "1      732895  Looks like be have an abuser , can you please ...\n",
       "2     1139051  I confess to having complete (and apparently b...\n",
       "3     1434512  \"\\n\\nFreud's ideas are certainly much discusse...\n",
       "4     2084821  It is not just you. This is a laundry list of ..."
      ]
     },
     "execution_count": 35,
     "metadata": {},
     "output_type": "execute_result"
    }
   ],
   "source": [
    "test1=pd.read_csv('../input/jigsaw-toxic-severity-rating/comments_to_score.csv')\n",
    "test1.head()"
   ]
  },
  {
   "cell_type": "code",
   "execution_count": 36,
   "id": "f8e124d1",
   "metadata": {
    "execution": {
     "iopub.execute_input": "2022-02-05T09:15:58.548518Z",
     "iopub.status.busy": "2022-02-05T09:15:58.547873Z",
     "iopub.status.idle": "2022-02-05T09:17:23.601669Z",
     "shell.execute_reply": "2022-02-05T09:17:23.600750Z"
    },
    "papermill": {
     "duration": 85.099721,
     "end_time": "2022-02-05T09:17:23.601915",
     "exception": false,
     "start_time": "2022-02-05T09:15:58.502194",
     "status": "completed"
    },
    "tags": []
   },
   "outputs": [],
   "source": [
    "ps = PorterStemmer()\n",
    "corpus = []\n",
    "for i in range(0, len(test1)):\n",
    "    review = re.sub('[^a-zA-Z]', ' ',str(test1['text'][i])) \n",
    "    review = review.lower()\n",
    "    review = review.split()\n",
    "    \n",
    "    review = [ps.stem(word) for word in review if not word in stopwords.words('english')]\n",
    "    review = ' '.join(review)\n",
    "    corpus.append(review)\n",
    "    \n",
    "## Applying Countvectorizer\n",
    "# Creating the Bag of Words model\n",
    "from sklearn.feature_extraction.text import CountVectorizer\n",
    "cv = CountVectorizer(max_features=20000,ngram_range=(1,3))\n",
    "X = cv.fit_transform(corpus).toarray()  "
   ]
  },
  {
   "cell_type": "code",
   "execution_count": 37,
   "id": "5b4104e8",
   "metadata": {
    "execution": {
     "iopub.execute_input": "2022-02-05T09:17:23.696795Z",
     "iopub.status.busy": "2022-02-05T09:17:23.696089Z",
     "iopub.status.idle": "2022-02-05T09:17:23.698730Z",
     "shell.execute_reply": "2022-02-05T09:17:23.699224Z"
    },
    "papermill": {
     "duration": 0.052167,
     "end_time": "2022-02-05T09:17:23.699418",
     "exception": false,
     "start_time": "2022-02-05T09:17:23.647251",
     "status": "completed"
    },
    "tags": []
   },
   "outputs": [
    {
     "data": {
      "text/plain": [
       "(45162, 20000)"
      ]
     },
     "execution_count": 37,
     "metadata": {},
     "output_type": "execute_result"
    }
   ],
   "source": [
    "X_train.shape"
   ]
  },
  {
   "cell_type": "code",
   "execution_count": 38,
   "id": "70577c92",
   "metadata": {
    "execution": {
     "iopub.execute_input": "2022-02-05T09:17:23.793673Z",
     "iopub.status.busy": "2022-02-05T09:17:23.792749Z",
     "iopub.status.idle": "2022-02-05T09:17:23.796339Z",
     "shell.execute_reply": "2022-02-05T09:17:23.796832Z"
    },
    "papermill": {
     "duration": 0.053122,
     "end_time": "2022-02-05T09:17:23.797053",
     "exception": false,
     "start_time": "2022-02-05T09:17:23.743931",
     "status": "completed"
    },
    "tags": []
   },
   "outputs": [
    {
     "data": {
      "text/plain": [
       "(7537, 20000)"
      ]
     },
     "execution_count": 38,
     "metadata": {},
     "output_type": "execute_result"
    }
   ],
   "source": [
    "X.shape"
   ]
  },
  {
   "cell_type": "code",
   "execution_count": 39,
   "id": "31a6559a",
   "metadata": {
    "execution": {
     "iopub.execute_input": "2022-02-05T09:17:23.892522Z",
     "iopub.status.busy": "2022-02-05T09:17:23.891870Z",
     "iopub.status.idle": "2022-02-05T09:17:24.636148Z",
     "shell.execute_reply": "2022-02-05T09:17:24.637116Z"
    },
    "papermill": {
     "duration": 0.794607,
     "end_time": "2022-02-05T09:17:24.637487",
     "exception": false,
     "start_time": "2022-02-05T09:17:23.842880",
     "status": "completed"
    },
    "tags": []
   },
   "outputs": [],
   "source": [
    "\n",
    "predict = classifier.predict(X)\n"
   ]
  },
  {
   "cell_type": "code",
   "execution_count": 40,
   "id": "22cd9017",
   "metadata": {
    "execution": {
     "iopub.execute_input": "2022-02-05T09:17:24.785907Z",
     "iopub.status.busy": "2022-02-05T09:17:24.785246Z",
     "iopub.status.idle": "2022-02-05T09:17:24.817790Z",
     "shell.execute_reply": "2022-02-05T09:17:24.817126Z"
    },
    "papermill": {
     "duration": 0.098067,
     "end_time": "2022-02-05T09:17:24.817946",
     "exception": false,
     "start_time": "2022-02-05T09:17:24.719879",
     "status": "completed"
    },
    "tags": []
   },
   "outputs": [
    {
     "data": {
      "text/html": [
       "<div>\n",
       "<style scoped>\n",
       "    .dataframe tbody tr th:only-of-type {\n",
       "        vertical-align: middle;\n",
       "    }\n",
       "\n",
       "    .dataframe tbody tr th {\n",
       "        vertical-align: top;\n",
       "    }\n",
       "\n",
       "    .dataframe thead th {\n",
       "        text-align: right;\n",
       "    }\n",
       "</style>\n",
       "<table border=\"1\" class=\"dataframe\">\n",
       "  <thead>\n",
       "    <tr style=\"text-align: right;\">\n",
       "      <th></th>\n",
       "      <th>comment_id</th>\n",
       "      <th>score</th>\n",
       "    </tr>\n",
       "  </thead>\n",
       "  <tbody>\n",
       "    <tr>\n",
       "      <th>0</th>\n",
       "      <td>114890</td>\n",
       "      <td>0</td>\n",
       "    </tr>\n",
       "    <tr>\n",
       "      <th>1</th>\n",
       "      <td>732895</td>\n",
       "      <td>0</td>\n",
       "    </tr>\n",
       "    <tr>\n",
       "      <th>2</th>\n",
       "      <td>1139051</td>\n",
       "      <td>0</td>\n",
       "    </tr>\n",
       "    <tr>\n",
       "      <th>3</th>\n",
       "      <td>1434512</td>\n",
       "      <td>0</td>\n",
       "    </tr>\n",
       "    <tr>\n",
       "      <th>4</th>\n",
       "      <td>2084821</td>\n",
       "      <td>0</td>\n",
       "    </tr>\n",
       "    <tr>\n",
       "      <th>...</th>\n",
       "      <td>...</td>\n",
       "      <td>...</td>\n",
       "    </tr>\n",
       "    <tr>\n",
       "      <th>7532</th>\n",
       "      <td>504235362</td>\n",
       "      <td>1</td>\n",
       "    </tr>\n",
       "    <tr>\n",
       "      <th>7533</th>\n",
       "      <td>504235566</td>\n",
       "      <td>0</td>\n",
       "    </tr>\n",
       "    <tr>\n",
       "      <th>7534</th>\n",
       "      <td>504308177</td>\n",
       "      <td>0</td>\n",
       "    </tr>\n",
       "    <tr>\n",
       "      <th>7535</th>\n",
       "      <td>504570375</td>\n",
       "      <td>1</td>\n",
       "    </tr>\n",
       "    <tr>\n",
       "      <th>7536</th>\n",
       "      <td>504598250</td>\n",
       "      <td>0</td>\n",
       "    </tr>\n",
       "  </tbody>\n",
       "</table>\n",
       "<p>7537 rows × 2 columns</p>\n",
       "</div>"
      ],
      "text/plain": [
       "      comment_id score\n",
       "0         114890     0\n",
       "1         732895     0\n",
       "2        1139051     0\n",
       "3        1434512     0\n",
       "4        2084821     0\n",
       "...          ...   ...\n",
       "7532   504235362     1\n",
       "7533   504235566     0\n",
       "7534   504308177     0\n",
       "7535   504570375     1\n",
       "7536   504598250     0\n",
       "\n",
       "[7537 rows x 2 columns]"
      ]
     },
     "execution_count": 40,
     "metadata": {},
     "output_type": "execute_result"
    }
   ],
   "source": [
    "sub = pd.DataFrame()\n",
    "sub[\"comment_id\"] = test1[\"comment_id\"]\n",
    "sub[\"score\"] = predict\n",
    "sub.to_csv('submission.csv',index=False)\n",
    "sub"
   ]
  },
  {
   "cell_type": "code",
   "execution_count": null,
   "id": "700da8d9",
   "metadata": {
    "papermill": {
     "duration": 0.045281,
     "end_time": "2022-02-05T09:17:24.908914",
     "exception": false,
     "start_time": "2022-02-05T09:17:24.863633",
     "status": "completed"
    },
    "tags": []
   },
   "outputs": [],
   "source": []
  },
  {
   "cell_type": "code",
   "execution_count": null,
   "id": "dc5bd8a7",
   "metadata": {
    "papermill": {
     "duration": 0.046562,
     "end_time": "2022-02-05T09:17:25.001097",
     "exception": false,
     "start_time": "2022-02-05T09:17:24.954535",
     "status": "completed"
    },
    "tags": []
   },
   "outputs": [],
   "source": []
  }
 ],
 "metadata": {
  "kernelspec": {
   "display_name": "Python 3",
   "language": "python",
   "name": "python3"
  },
  "language_info": {
   "codemirror_mode": {
    "name": "ipython",
    "version": 3
   },
   "file_extension": ".py",
   "mimetype": "text/x-python",
   "name": "python",
   "nbconvert_exporter": "python",
   "pygments_lexer": "ipython3",
   "version": "3.7.12"
  },
  "papermill": {
   "default_parameters": {},
   "duration": 835.826776,
   "end_time": "2022-02-05T09:17:25.964943",
   "environment_variables": {},
   "exception": null,
   "input_path": "__notebook__.ipynb",
   "output_path": "__notebook__.ipynb",
   "parameters": {},
   "start_time": "2022-02-05T09:03:30.138167",
   "version": "2.3.3"
  }
 },
 "nbformat": 4,
 "nbformat_minor": 5
}
