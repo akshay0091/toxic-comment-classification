{
 "cells": [
  {
   "cell_type": "code",
   "execution_count": 1,
   "id": "f8bd9e99",
   "metadata": {
    "execution": {
     "iopub.execute_input": "2022-02-05T08:23:20.967372Z",
     "iopub.status.busy": "2022-02-05T08:23:20.965640Z",
     "iopub.status.idle": "2022-02-05T08:23:23.346698Z",
     "shell.execute_reply": "2022-02-05T08:23:23.345904Z",
     "shell.execute_reply.started": "2022-02-05T07:52:53.624924Z"
    },
    "papermill": {
     "duration": 2.423216,
     "end_time": "2022-02-05T08:23:23.346877",
     "exception": false,
     "start_time": "2022-02-05T08:23:20.923661",
     "status": "completed"
    },
    "tags": []
   },
   "outputs": [
    {
     "name": "stdout",
     "output_type": "stream",
     "text": [
      "[nltk_data] Downloading package stopwords to /usr/share/nltk_data...\n",
      "[nltk_data]   Unzipping corpora/stopwords.zip.\n"
     ]
    }
   ],
   "source": [
    "import numpy as np\n",
    "\n",
    "import pandas as pd\n",
    "\n",
    "messages1 = pd.read_csv('../input/jigsaw-toxic-severity-rating/validation_data.csv')\n",
    "\n",
    "#Data cleaning and preprocessing\n",
    "import re\n",
    "import nltk\n",
    "nltk.download('stopwords')\n",
    "\n",
    "from nltk.corpus import stopwords\n",
    "from nltk.stem.porter import PorterStemmer\n",
    "\n",
    "\n",
    "#messages1.head(1)"
   ]
  },
  {
   "cell_type": "code",
   "execution_count": null,
   "id": "a60aacf9",
   "metadata": {
    "papermill": {
     "duration": 0.033757,
     "end_time": "2022-02-05T08:23:23.415414",
     "exception": false,
     "start_time": "2022-02-05T08:23:23.381657",
     "status": "completed"
    },
    "tags": []
   },
   "outputs": [],
   "source": []
  },
  {
   "cell_type": "code",
   "execution_count": 2,
   "id": "100549ef",
   "metadata": {
    "execution": {
     "iopub.execute_input": "2022-02-05T08:23:23.495078Z",
     "iopub.status.busy": "2022-02-05T08:23:23.494067Z",
     "iopub.status.idle": "2022-02-05T08:23:23.514080Z",
     "shell.execute_reply": "2022-02-05T08:23:23.514711Z",
     "shell.execute_reply.started": "2022-02-05T07:52:55.898184Z"
    },
    "papermill": {
     "duration": 0.064069,
     "end_time": "2022-02-05T08:23:23.514885",
     "exception": false,
     "start_time": "2022-02-05T08:23:23.450816",
     "status": "completed"
    },
    "tags": []
   },
   "outputs": [
    {
     "data": {
      "text/html": [
       "<div>\n",
       "<style scoped>\n",
       "    .dataframe tbody tr th:only-of-type {\n",
       "        vertical-align: middle;\n",
       "    }\n",
       "\n",
       "    .dataframe tbody tr th {\n",
       "        vertical-align: top;\n",
       "    }\n",
       "\n",
       "    .dataframe thead th {\n",
       "        text-align: right;\n",
       "    }\n",
       "</style>\n",
       "<table border=\"1\" class=\"dataframe\">\n",
       "  <thead>\n",
       "    <tr style=\"text-align: right;\">\n",
       "      <th></th>\n",
       "      <th>less_toxic</th>\n",
       "      <th>more_toxic</th>\n",
       "    </tr>\n",
       "  </thead>\n",
       "  <tbody>\n",
       "    <tr>\n",
       "      <th>0</th>\n",
       "      <td>This article sucks \\n\\nwoo woo wooooooo</td>\n",
       "      <td>WHAT!!!!!!!!?!?!!?!?!!?!?!?!?!!!!!!!!!!!!!!!!!...</td>\n",
       "    </tr>\n",
       "    <tr>\n",
       "      <th>1</th>\n",
       "      <td>\"And yes, people should recognize that but the...</td>\n",
       "      <td>Daphne Guinness \\n\\nTop of the mornin' my fav...</td>\n",
       "    </tr>\n",
       "    <tr>\n",
       "      <th>2</th>\n",
       "      <td>Western Media?\\n\\nYup, because every crime in...</td>\n",
       "      <td>\"Atom you don't believe actual photos of mastu...</td>\n",
       "    </tr>\n",
       "    <tr>\n",
       "      <th>3</th>\n",
       "      <td>And you removed it! You numbskull! I don't car...</td>\n",
       "      <td>You seem to have sand in your vagina.\\n\\nMight...</td>\n",
       "    </tr>\n",
       "    <tr>\n",
       "      <th>4</th>\n",
       "      <td>smelly vagina \\n\\nBluerasberry why don't you ...</td>\n",
       "      <td>hey \\n\\nway to support nazis, you racist</td>\n",
       "    </tr>\n",
       "    <tr>\n",
       "      <th>...</th>\n",
       "      <td>...</td>\n",
       "      <td>...</td>\n",
       "    </tr>\n",
       "    <tr>\n",
       "      <th>30103</th>\n",
       "      <td>I'm sorry. I'm not an admin. I will give you t...</td>\n",
       "      <td>get out my large penis</td>\n",
       "    </tr>\n",
       "    <tr>\n",
       "      <th>30104</th>\n",
       "      <td>I'm sorry. I'm not an admin. I will give you t...</td>\n",
       "      <td>get out my large penis</td>\n",
       "    </tr>\n",
       "    <tr>\n",
       "      <th>30105</th>\n",
       "      <td>wow...\\nare you out of your mind, how was my e...</td>\n",
       "      <td>Piss off you slant eyed-gook</td>\n",
       "    </tr>\n",
       "    <tr>\n",
       "      <th>30106</th>\n",
       "      <td>wow...\\nare you out of your mind, how was my e...</td>\n",
       "      <td>Piss off you slant eyed-gook</td>\n",
       "    </tr>\n",
       "    <tr>\n",
       "      <th>30107</th>\n",
       "      <td>wow...\\nare you out of your mind, how was my e...</td>\n",
       "      <td>Piss off you slant eyed-gook</td>\n",
       "    </tr>\n",
       "  </tbody>\n",
       "</table>\n",
       "<p>30108 rows × 2 columns</p>\n",
       "</div>"
      ],
      "text/plain": [
       "                                              less_toxic  \\\n",
       "0                This article sucks \\n\\nwoo woo wooooooo   \n",
       "1      \"And yes, people should recognize that but the...   \n",
       "2       Western Media?\\n\\nYup, because every crime in...   \n",
       "3      And you removed it! You numbskull! I don't car...   \n",
       "4       smelly vagina \\n\\nBluerasberry why don't you ...   \n",
       "...                                                  ...   \n",
       "30103  I'm sorry. I'm not an admin. I will give you t...   \n",
       "30104  I'm sorry. I'm not an admin. I will give you t...   \n",
       "30105  wow...\\nare you out of your mind, how was my e...   \n",
       "30106  wow...\\nare you out of your mind, how was my e...   \n",
       "30107  wow...\\nare you out of your mind, how was my e...   \n",
       "\n",
       "                                              more_toxic  \n",
       "0      WHAT!!!!!!!!?!?!!?!?!!?!?!?!?!!!!!!!!!!!!!!!!!...  \n",
       "1       Daphne Guinness \\n\\nTop of the mornin' my fav...  \n",
       "2      \"Atom you don't believe actual photos of mastu...  \n",
       "3      You seem to have sand in your vagina.\\n\\nMight...  \n",
       "4               hey \\n\\nway to support nazis, you racist  \n",
       "...                                                  ...  \n",
       "30103                             get out my large penis  \n",
       "30104                             get out my large penis  \n",
       "30105                       Piss off you slant eyed-gook  \n",
       "30106                       Piss off you slant eyed-gook  \n",
       "30107                       Piss off you slant eyed-gook  \n",
       "\n",
       "[30108 rows x 2 columns]"
      ]
     },
     "execution_count": 2,
     "metadata": {},
     "output_type": "execute_result"
    }
   ],
   "source": [
    "messages1.drop('worker',axis=1)"
   ]
  },
  {
   "cell_type": "code",
   "execution_count": 3,
   "id": "2b906dec",
   "metadata": {
    "execution": {
     "iopub.execute_input": "2022-02-05T08:23:23.587737Z",
     "iopub.status.busy": "2022-02-05T08:23:23.587063Z",
     "iopub.status.idle": "2022-02-05T08:23:23.728601Z",
     "shell.execute_reply": "2022-02-05T08:23:23.729181Z",
     "shell.execute_reply.started": "2022-02-05T07:52:56.041253Z"
    },
    "papermill": {
     "duration": 0.179889,
     "end_time": "2022-02-05T08:23:23.729403",
     "exception": false,
     "start_time": "2022-02-05T08:23:23.549514",
     "status": "completed"
    },
    "tags": []
   },
   "outputs": [
    {
     "data": {
      "text/html": [
       "<div>\n",
       "<style scoped>\n",
       "    .dataframe tbody tr th:only-of-type {\n",
       "        vertical-align: middle;\n",
       "    }\n",
       "\n",
       "    .dataframe tbody tr th {\n",
       "        vertical-align: top;\n",
       "    }\n",
       "\n",
       "    .dataframe thead th {\n",
       "        text-align: right;\n",
       "    }\n",
       "</style>\n",
       "<table border=\"1\" class=\"dataframe\">\n",
       "  <thead>\n",
       "    <tr style=\"text-align: right;\">\n",
       "      <th></th>\n",
       "      <th>0</th>\n",
       "    </tr>\n",
       "  </thead>\n",
       "  <tbody>\n",
       "    <tr>\n",
       "      <th>0</th>\n",
       "      <td>WHAT!!!!!!!!?!?!!?!?!!?!?!?!?!!!!!!!!!!!!!!!!!...</td>\n",
       "    </tr>\n",
       "    <tr>\n",
       "      <th>1</th>\n",
       "      <td>Daphne Guinness \\n\\nTop of the mornin' my fav...</td>\n",
       "    </tr>\n",
       "    <tr>\n",
       "      <th>2</th>\n",
       "      <td>\"Atom you don't believe actual photos of mastu...</td>\n",
       "    </tr>\n",
       "    <tr>\n",
       "      <th>3</th>\n",
       "      <td>You seem to have sand in your vagina.\\n\\nMight...</td>\n",
       "    </tr>\n",
       "    <tr>\n",
       "      <th>4</th>\n",
       "      <td>hey \\n\\nway to support nazis, you racist</td>\n",
       "    </tr>\n",
       "    <tr>\n",
       "      <th>...</th>\n",
       "      <td>...</td>\n",
       "    </tr>\n",
       "    <tr>\n",
       "      <th>30103</th>\n",
       "      <td>get out my large penis</td>\n",
       "    </tr>\n",
       "    <tr>\n",
       "      <th>30104</th>\n",
       "      <td>get out my large penis</td>\n",
       "    </tr>\n",
       "    <tr>\n",
       "      <th>30105</th>\n",
       "      <td>Piss off you slant eyed-gook</td>\n",
       "    </tr>\n",
       "    <tr>\n",
       "      <th>30106</th>\n",
       "      <td>Piss off you slant eyed-gook</td>\n",
       "    </tr>\n",
       "    <tr>\n",
       "      <th>30107</th>\n",
       "      <td>Piss off you slant eyed-gook</td>\n",
       "    </tr>\n",
       "  </tbody>\n",
       "</table>\n",
       "<p>30108 rows × 1 columns</p>\n",
       "</div>"
      ],
      "text/plain": [
       "                                                       0\n",
       "0      WHAT!!!!!!!!?!?!!?!?!!?!?!?!?!!!!!!!!!!!!!!!!!...\n",
       "1       Daphne Guinness \\n\\nTop of the mornin' my fav...\n",
       "2      \"Atom you don't believe actual photos of mastu...\n",
       "3      You seem to have sand in your vagina.\\n\\nMight...\n",
       "4               hey \\n\\nway to support nazis, you racist\n",
       "...                                                  ...\n",
       "30103                             get out my large penis\n",
       "30104                             get out my large penis\n",
       "30105                       Piss off you slant eyed-gook\n",
       "30106                       Piss off you slant eyed-gook\n",
       "30107                       Piss off you slant eyed-gook\n",
       "\n",
       "[30108 rows x 1 columns]"
      ]
     },
     "execution_count": 3,
     "metadata": {},
     "output_type": "execute_result"
    }
   ],
   "source": [
    "more_tox= pd.DataFrame(zip(messages1.more_toxic))\n",
    "more_tox"
   ]
  },
  {
   "cell_type": "code",
   "execution_count": 4,
   "id": "f01be417",
   "metadata": {
    "execution": {
     "iopub.execute_input": "2022-02-05T08:23:23.813749Z",
     "iopub.status.busy": "2022-02-05T08:23:23.813066Z",
     "iopub.status.idle": "2022-02-05T08:23:23.827895Z",
     "shell.execute_reply": "2022-02-05T08:23:23.828436Z",
     "shell.execute_reply.started": "2022-02-05T07:52:56.073992Z"
    },
    "papermill": {
     "duration": 0.062733,
     "end_time": "2022-02-05T08:23:23.828606",
     "exception": false,
     "start_time": "2022-02-05T08:23:23.765873",
     "status": "completed"
    },
    "tags": []
   },
   "outputs": [
    {
     "data": {
      "text/html": [
       "<div>\n",
       "<style scoped>\n",
       "    .dataframe tbody tr th:only-of-type {\n",
       "        vertical-align: middle;\n",
       "    }\n",
       "\n",
       "    .dataframe tbody tr th {\n",
       "        vertical-align: top;\n",
       "    }\n",
       "\n",
       "    .dataframe thead th {\n",
       "        text-align: right;\n",
       "    }\n",
       "</style>\n",
       "<table border=\"1\" class=\"dataframe\">\n",
       "  <thead>\n",
       "    <tr style=\"text-align: right;\">\n",
       "      <th></th>\n",
       "      <th>0</th>\n",
       "    </tr>\n",
       "  </thead>\n",
       "  <tbody>\n",
       "    <tr>\n",
       "      <th>0</th>\n",
       "      <td>This article sucks \\n\\nwoo woo wooooooo</td>\n",
       "    </tr>\n",
       "    <tr>\n",
       "      <th>1</th>\n",
       "      <td>\"And yes, people should recognize that but the...</td>\n",
       "    </tr>\n",
       "    <tr>\n",
       "      <th>2</th>\n",
       "      <td>Western Media?\\n\\nYup, because every crime in...</td>\n",
       "    </tr>\n",
       "    <tr>\n",
       "      <th>3</th>\n",
       "      <td>And you removed it! You numbskull! I don't car...</td>\n",
       "    </tr>\n",
       "    <tr>\n",
       "      <th>4</th>\n",
       "      <td>smelly vagina \\n\\nBluerasberry why don't you ...</td>\n",
       "    </tr>\n",
       "    <tr>\n",
       "      <th>...</th>\n",
       "      <td>...</td>\n",
       "    </tr>\n",
       "    <tr>\n",
       "      <th>30103</th>\n",
       "      <td>I'm sorry. I'm not an admin. I will give you t...</td>\n",
       "    </tr>\n",
       "    <tr>\n",
       "      <th>30104</th>\n",
       "      <td>I'm sorry. I'm not an admin. I will give you t...</td>\n",
       "    </tr>\n",
       "    <tr>\n",
       "      <th>30105</th>\n",
       "      <td>wow...\\nare you out of your mind, how was my e...</td>\n",
       "    </tr>\n",
       "    <tr>\n",
       "      <th>30106</th>\n",
       "      <td>wow...\\nare you out of your mind, how was my e...</td>\n",
       "    </tr>\n",
       "    <tr>\n",
       "      <th>30107</th>\n",
       "      <td>wow...\\nare you out of your mind, how was my e...</td>\n",
       "    </tr>\n",
       "  </tbody>\n",
       "</table>\n",
       "<p>30108 rows × 1 columns</p>\n",
       "</div>"
      ],
      "text/plain": [
       "                                                       0\n",
       "0                This article sucks \\n\\nwoo woo wooooooo\n",
       "1      \"And yes, people should recognize that but the...\n",
       "2       Western Media?\\n\\nYup, because every crime in...\n",
       "3      And you removed it! You numbskull! I don't car...\n",
       "4       smelly vagina \\n\\nBluerasberry why don't you ...\n",
       "...                                                  ...\n",
       "30103  I'm sorry. I'm not an admin. I will give you t...\n",
       "30104  I'm sorry. I'm not an admin. I will give you t...\n",
       "30105  wow...\\nare you out of your mind, how was my e...\n",
       "30106  wow...\\nare you out of your mind, how was my e...\n",
       "30107  wow...\\nare you out of your mind, how was my e...\n",
       "\n",
       "[30108 rows x 1 columns]"
      ]
     },
     "execution_count": 4,
     "metadata": {},
     "output_type": "execute_result"
    }
   ],
   "source": [
    "less_tox= pd.DataFrame(zip(messages1.less_toxic))\n",
    "less_tox"
   ]
  },
  {
   "cell_type": "code",
   "execution_count": 5,
   "id": "14164dfc",
   "metadata": {
    "execution": {
     "iopub.execute_input": "2022-02-05T08:23:23.905072Z",
     "iopub.status.busy": "2022-02-05T08:23:23.904448Z",
     "iopub.status.idle": "2022-02-05T08:23:23.908342Z",
     "shell.execute_reply": "2022-02-05T08:23:23.908920Z",
     "shell.execute_reply.started": "2022-02-05T07:52:56.102952Z"
    },
    "papermill": {
     "duration": 0.044402,
     "end_time": "2022-02-05T08:23:23.909093",
     "exception": false,
     "start_time": "2022-02-05T08:23:23.864691",
     "status": "completed"
    },
    "tags": []
   },
   "outputs": [],
   "source": [
    "less_tox['y'] = '0'\n"
   ]
  },
  {
   "cell_type": "code",
   "execution_count": 6,
   "id": "3c6286c8",
   "metadata": {
    "execution": {
     "iopub.execute_input": "2022-02-05T08:23:23.984940Z",
     "iopub.status.busy": "2022-02-05T08:23:23.984291Z",
     "iopub.status.idle": "2022-02-05T08:23:23.995822Z",
     "shell.execute_reply": "2022-02-05T08:23:23.995260Z",
     "shell.execute_reply.started": "2022-02-05T07:52:56.109646Z"
    },
    "papermill": {
     "duration": 0.050073,
     "end_time": "2022-02-05T08:23:23.995982",
     "exception": false,
     "start_time": "2022-02-05T08:23:23.945909",
     "status": "completed"
    },
    "tags": []
   },
   "outputs": [
    {
     "data": {
      "text/html": [
       "<div>\n",
       "<style scoped>\n",
       "    .dataframe tbody tr th:only-of-type {\n",
       "        vertical-align: middle;\n",
       "    }\n",
       "\n",
       "    .dataframe tbody tr th {\n",
       "        vertical-align: top;\n",
       "    }\n",
       "\n",
       "    .dataframe thead th {\n",
       "        text-align: right;\n",
       "    }\n",
       "</style>\n",
       "<table border=\"1\" class=\"dataframe\">\n",
       "  <thead>\n",
       "    <tr style=\"text-align: right;\">\n",
       "      <th></th>\n",
       "      <th>0</th>\n",
       "      <th>y</th>\n",
       "    </tr>\n",
       "  </thead>\n",
       "  <tbody>\n",
       "    <tr>\n",
       "      <th>0</th>\n",
       "      <td>This article sucks \\n\\nwoo woo wooooooo</td>\n",
       "      <td>0</td>\n",
       "    </tr>\n",
       "    <tr>\n",
       "      <th>1</th>\n",
       "      <td>\"And yes, people should recognize that but the...</td>\n",
       "      <td>0</td>\n",
       "    </tr>\n",
       "    <tr>\n",
       "      <th>2</th>\n",
       "      <td>Western Media?\\n\\nYup, because every crime in...</td>\n",
       "      <td>0</td>\n",
       "    </tr>\n",
       "    <tr>\n",
       "      <th>3</th>\n",
       "      <td>And you removed it! You numbskull! I don't car...</td>\n",
       "      <td>0</td>\n",
       "    </tr>\n",
       "    <tr>\n",
       "      <th>4</th>\n",
       "      <td>smelly vagina \\n\\nBluerasberry why don't you ...</td>\n",
       "      <td>0</td>\n",
       "    </tr>\n",
       "    <tr>\n",
       "      <th>...</th>\n",
       "      <td>...</td>\n",
       "      <td>...</td>\n",
       "    </tr>\n",
       "    <tr>\n",
       "      <th>30103</th>\n",
       "      <td>I'm sorry. I'm not an admin. I will give you t...</td>\n",
       "      <td>0</td>\n",
       "    </tr>\n",
       "    <tr>\n",
       "      <th>30104</th>\n",
       "      <td>I'm sorry. I'm not an admin. I will give you t...</td>\n",
       "      <td>0</td>\n",
       "    </tr>\n",
       "    <tr>\n",
       "      <th>30105</th>\n",
       "      <td>wow...\\nare you out of your mind, how was my e...</td>\n",
       "      <td>0</td>\n",
       "    </tr>\n",
       "    <tr>\n",
       "      <th>30106</th>\n",
       "      <td>wow...\\nare you out of your mind, how was my e...</td>\n",
       "      <td>0</td>\n",
       "    </tr>\n",
       "    <tr>\n",
       "      <th>30107</th>\n",
       "      <td>wow...\\nare you out of your mind, how was my e...</td>\n",
       "      <td>0</td>\n",
       "    </tr>\n",
       "  </tbody>\n",
       "</table>\n",
       "<p>30108 rows × 2 columns</p>\n",
       "</div>"
      ],
      "text/plain": [
       "                                                       0  y\n",
       "0                This article sucks \\n\\nwoo woo wooooooo  0\n",
       "1      \"And yes, people should recognize that but the...  0\n",
       "2       Western Media?\\n\\nYup, because every crime in...  0\n",
       "3      And you removed it! You numbskull! I don't car...  0\n",
       "4       smelly vagina \\n\\nBluerasberry why don't you ...  0\n",
       "...                                                  ... ..\n",
       "30103  I'm sorry. I'm not an admin. I will give you t...  0\n",
       "30104  I'm sorry. I'm not an admin. I will give you t...  0\n",
       "30105  wow...\\nare you out of your mind, how was my e...  0\n",
       "30106  wow...\\nare you out of your mind, how was my e...  0\n",
       "30107  wow...\\nare you out of your mind, how was my e...  0\n",
       "\n",
       "[30108 rows x 2 columns]"
      ]
     },
     "execution_count": 6,
     "metadata": {},
     "output_type": "execute_result"
    }
   ],
   "source": [
    "less_tox"
   ]
  },
  {
   "cell_type": "code",
   "execution_count": 7,
   "id": "b3ef0035",
   "metadata": {
    "execution": {
     "iopub.execute_input": "2022-02-05T08:23:24.081514Z",
     "iopub.status.busy": "2022-02-05T08:23:24.072925Z",
     "iopub.status.idle": "2022-02-05T08:23:24.085054Z",
     "shell.execute_reply": "2022-02-05T08:23:24.084557Z",
     "shell.execute_reply.started": "2022-02-05T07:52:56.128509Z"
    },
    "papermill": {
     "duration": 0.052882,
     "end_time": "2022-02-05T08:23:24.085198",
     "exception": false,
     "start_time": "2022-02-05T08:23:24.032316",
     "status": "completed"
    },
    "tags": []
   },
   "outputs": [
    {
     "data": {
      "text/html": [
       "<div>\n",
       "<style scoped>\n",
       "    .dataframe tbody tr th:only-of-type {\n",
       "        vertical-align: middle;\n",
       "    }\n",
       "\n",
       "    .dataframe tbody tr th {\n",
       "        vertical-align: top;\n",
       "    }\n",
       "\n",
       "    .dataframe thead th {\n",
       "        text-align: right;\n",
       "    }\n",
       "</style>\n",
       "<table border=\"1\" class=\"dataframe\">\n",
       "  <thead>\n",
       "    <tr style=\"text-align: right;\">\n",
       "      <th></th>\n",
       "      <th>0</th>\n",
       "      <th>y</th>\n",
       "    </tr>\n",
       "  </thead>\n",
       "  <tbody>\n",
       "    <tr>\n",
       "      <th>0</th>\n",
       "      <td>WHAT!!!!!!!!?!?!!?!?!!?!?!?!?!!!!!!!!!!!!!!!!!...</td>\n",
       "      <td>1</td>\n",
       "    </tr>\n",
       "    <tr>\n",
       "      <th>1</th>\n",
       "      <td>Daphne Guinness \\n\\nTop of the mornin' my fav...</td>\n",
       "      <td>1</td>\n",
       "    </tr>\n",
       "    <tr>\n",
       "      <th>2</th>\n",
       "      <td>\"Atom you don't believe actual photos of mastu...</td>\n",
       "      <td>1</td>\n",
       "    </tr>\n",
       "    <tr>\n",
       "      <th>3</th>\n",
       "      <td>You seem to have sand in your vagina.\\n\\nMight...</td>\n",
       "      <td>1</td>\n",
       "    </tr>\n",
       "    <tr>\n",
       "      <th>4</th>\n",
       "      <td>hey \\n\\nway to support nazis, you racist</td>\n",
       "      <td>1</td>\n",
       "    </tr>\n",
       "    <tr>\n",
       "      <th>...</th>\n",
       "      <td>...</td>\n",
       "      <td>...</td>\n",
       "    </tr>\n",
       "    <tr>\n",
       "      <th>30103</th>\n",
       "      <td>get out my large penis</td>\n",
       "      <td>1</td>\n",
       "    </tr>\n",
       "    <tr>\n",
       "      <th>30104</th>\n",
       "      <td>get out my large penis</td>\n",
       "      <td>1</td>\n",
       "    </tr>\n",
       "    <tr>\n",
       "      <th>30105</th>\n",
       "      <td>Piss off you slant eyed-gook</td>\n",
       "      <td>1</td>\n",
       "    </tr>\n",
       "    <tr>\n",
       "      <th>30106</th>\n",
       "      <td>Piss off you slant eyed-gook</td>\n",
       "      <td>1</td>\n",
       "    </tr>\n",
       "    <tr>\n",
       "      <th>30107</th>\n",
       "      <td>Piss off you slant eyed-gook</td>\n",
       "      <td>1</td>\n",
       "    </tr>\n",
       "  </tbody>\n",
       "</table>\n",
       "<p>30108 rows × 2 columns</p>\n",
       "</div>"
      ],
      "text/plain": [
       "                                                       0  y\n",
       "0      WHAT!!!!!!!!?!?!!?!?!!?!?!?!?!!!!!!!!!!!!!!!!!...  1\n",
       "1       Daphne Guinness \\n\\nTop of the mornin' my fav...  1\n",
       "2      \"Atom you don't believe actual photos of mastu...  1\n",
       "3      You seem to have sand in your vagina.\\n\\nMight...  1\n",
       "4               hey \\n\\nway to support nazis, you racist  1\n",
       "...                                                  ... ..\n",
       "30103                             get out my large penis  1\n",
       "30104                             get out my large penis  1\n",
       "30105                       Piss off you slant eyed-gook  1\n",
       "30106                       Piss off you slant eyed-gook  1\n",
       "30107                       Piss off you slant eyed-gook  1\n",
       "\n",
       "[30108 rows x 2 columns]"
      ]
     },
     "execution_count": 7,
     "metadata": {},
     "output_type": "execute_result"
    }
   ],
   "source": [
    "more_tox['y'] = '1'\n",
    "more_tox\n"
   ]
  },
  {
   "cell_type": "code",
   "execution_count": 8,
   "id": "0478fa04",
   "metadata": {
    "execution": {
     "iopub.execute_input": "2022-02-05T08:23:24.171047Z",
     "iopub.status.busy": "2022-02-05T08:23:24.170344Z",
     "iopub.status.idle": "2022-02-05T08:23:24.172905Z",
     "shell.execute_reply": "2022-02-05T08:23:24.173396Z",
     "shell.execute_reply.started": "2022-02-05T07:52:56.142526Z"
    },
    "papermill": {
     "duration": 0.05178,
     "end_time": "2022-02-05T08:23:24.173563",
     "exception": false,
     "start_time": "2022-02-05T08:23:24.121783",
     "status": "completed"
    },
    "tags": []
   },
   "outputs": [
    {
     "data": {
      "text/html": [
       "<div>\n",
       "<style scoped>\n",
       "    .dataframe tbody tr th:only-of-type {\n",
       "        vertical-align: middle;\n",
       "    }\n",
       "\n",
       "    .dataframe tbody tr th {\n",
       "        vertical-align: top;\n",
       "    }\n",
       "\n",
       "    .dataframe thead th {\n",
       "        text-align: right;\n",
       "    }\n",
       "</style>\n",
       "<table border=\"1\" class=\"dataframe\">\n",
       "  <thead>\n",
       "    <tr style=\"text-align: right;\">\n",
       "      <th></th>\n",
       "      <th>text</th>\n",
       "      <th>y</th>\n",
       "    </tr>\n",
       "  </thead>\n",
       "  <tbody>\n",
       "    <tr>\n",
       "      <th>0</th>\n",
       "      <td>WHAT!!!!!!!!?!?!!?!?!!?!?!?!?!!!!!!!!!!!!!!!!!...</td>\n",
       "      <td>1</td>\n",
       "    </tr>\n",
       "  </tbody>\n",
       "</table>\n",
       "</div>"
      ],
      "text/plain": [
       "                                                text  y\n",
       "0  WHAT!!!!!!!!?!?!!?!?!!?!?!?!?!!!!!!!!!!!!!!!!!...  1"
      ]
     },
     "execution_count": 8,
     "metadata": {},
     "output_type": "execute_result"
    }
   ],
   "source": [
    "more_tox.columns=['text','y']\n",
    "more_tox.head(1)"
   ]
  },
  {
   "cell_type": "code",
   "execution_count": 9,
   "id": "a777ff4a",
   "metadata": {
    "execution": {
     "iopub.execute_input": "2022-02-05T08:23:24.250673Z",
     "iopub.status.busy": "2022-02-05T08:23:24.249930Z",
     "iopub.status.idle": "2022-02-05T08:23:24.260530Z",
     "shell.execute_reply": "2022-02-05T08:23:24.259862Z",
     "shell.execute_reply.started": "2022-02-05T07:52:56.155152Z"
    },
    "papermill": {
     "duration": 0.050374,
     "end_time": "2022-02-05T08:23:24.260684",
     "exception": false,
     "start_time": "2022-02-05T08:23:24.210310",
     "status": "completed"
    },
    "tags": []
   },
   "outputs": [
    {
     "data": {
      "text/html": [
       "<div>\n",
       "<style scoped>\n",
       "    .dataframe tbody tr th:only-of-type {\n",
       "        vertical-align: middle;\n",
       "    }\n",
       "\n",
       "    .dataframe tbody tr th {\n",
       "        vertical-align: top;\n",
       "    }\n",
       "\n",
       "    .dataframe thead th {\n",
       "        text-align: right;\n",
       "    }\n",
       "</style>\n",
       "<table border=\"1\" class=\"dataframe\">\n",
       "  <thead>\n",
       "    <tr style=\"text-align: right;\">\n",
       "      <th></th>\n",
       "      <th>text</th>\n",
       "      <th>y</th>\n",
       "    </tr>\n",
       "  </thead>\n",
       "  <tbody>\n",
       "    <tr>\n",
       "      <th>0</th>\n",
       "      <td>This article sucks \\n\\nwoo woo wooooooo</td>\n",
       "      <td>0</td>\n",
       "    </tr>\n",
       "  </tbody>\n",
       "</table>\n",
       "</div>"
      ],
      "text/plain": [
       "                                       text  y\n",
       "0   This article sucks \\n\\nwoo woo wooooooo  0"
      ]
     },
     "execution_count": 9,
     "metadata": {},
     "output_type": "execute_result"
    }
   ],
   "source": [
    "less_tox.columns=['text','y']\n",
    "less_tox.head(1)"
   ]
  },
  {
   "cell_type": "code",
   "execution_count": 10,
   "id": "2f85dc2e",
   "metadata": {
    "execution": {
     "iopub.execute_input": "2022-02-05T08:23:24.341178Z",
     "iopub.status.busy": "2022-02-05T08:23:24.338811Z",
     "iopub.status.idle": "2022-02-05T08:23:24.343935Z",
     "shell.execute_reply": "2022-02-05T08:23:24.344451Z",
     "shell.execute_reply.started": "2022-02-05T07:52:56.174121Z"
    },
    "papermill": {
     "duration": 0.04584,
     "end_time": "2022-02-05T08:23:24.344617",
     "exception": false,
     "start_time": "2022-02-05T08:23:24.298777",
     "status": "completed"
    },
    "tags": []
   },
   "outputs": [
    {
     "name": "stdout",
     "output_type": "stream",
     "text": [
      "(30108, 2)\n",
      "(30108, 2)\n"
     ]
    }
   ],
   "source": [
    "print(more_tox.shape)\n",
    "print(less_tox.shape)"
   ]
  },
  {
   "cell_type": "code",
   "execution_count": 11,
   "id": "8b9dfd1a",
   "metadata": {
    "execution": {
     "iopub.execute_input": "2022-02-05T08:23:24.424422Z",
     "iopub.status.busy": "2022-02-05T08:23:24.423723Z",
     "iopub.status.idle": "2022-02-05T08:23:24.437267Z",
     "shell.execute_reply": "2022-02-05T08:23:24.437792Z",
     "shell.execute_reply.started": "2022-02-05T07:52:56.182060Z"
    },
    "papermill": {
     "duration": 0.055931,
     "end_time": "2022-02-05T08:23:24.437958",
     "exception": false,
     "start_time": "2022-02-05T08:23:24.382027",
     "status": "completed"
    },
    "tags": []
   },
   "outputs": [
    {
     "data": {
      "text/html": [
       "<div>\n",
       "<style scoped>\n",
       "    .dataframe tbody tr th:only-of-type {\n",
       "        vertical-align: middle;\n",
       "    }\n",
       "\n",
       "    .dataframe tbody tr th {\n",
       "        vertical-align: top;\n",
       "    }\n",
       "\n",
       "    .dataframe thead th {\n",
       "        text-align: right;\n",
       "    }\n",
       "</style>\n",
       "<table border=\"1\" class=\"dataframe\">\n",
       "  <thead>\n",
       "    <tr style=\"text-align: right;\">\n",
       "      <th></th>\n",
       "      <th>text</th>\n",
       "      <th>y</th>\n",
       "    </tr>\n",
       "  </thead>\n",
       "  <tbody>\n",
       "    <tr>\n",
       "      <th>0</th>\n",
       "      <td>WHAT!!!!!!!!?!?!!?!?!!?!?!?!?!!!!!!!!!!!!!!!!!...</td>\n",
       "      <td>1</td>\n",
       "    </tr>\n",
       "    <tr>\n",
       "      <th>1</th>\n",
       "      <td>Daphne Guinness \\n\\nTop of the mornin' my fav...</td>\n",
       "      <td>1</td>\n",
       "    </tr>\n",
       "    <tr>\n",
       "      <th>2</th>\n",
       "      <td>\"Atom you don't believe actual photos of mastu...</td>\n",
       "      <td>1</td>\n",
       "    </tr>\n",
       "    <tr>\n",
       "      <th>3</th>\n",
       "      <td>You seem to have sand in your vagina.\\n\\nMight...</td>\n",
       "      <td>1</td>\n",
       "    </tr>\n",
       "    <tr>\n",
       "      <th>4</th>\n",
       "      <td>hey \\n\\nway to support nazis, you racist</td>\n",
       "      <td>1</td>\n",
       "    </tr>\n",
       "    <tr>\n",
       "      <th>...</th>\n",
       "      <td>...</td>\n",
       "      <td>...</td>\n",
       "    </tr>\n",
       "    <tr>\n",
       "      <th>30103</th>\n",
       "      <td>I'm sorry. I'm not an admin. I will give you t...</td>\n",
       "      <td>0</td>\n",
       "    </tr>\n",
       "    <tr>\n",
       "      <th>30104</th>\n",
       "      <td>I'm sorry. I'm not an admin. I will give you t...</td>\n",
       "      <td>0</td>\n",
       "    </tr>\n",
       "    <tr>\n",
       "      <th>30105</th>\n",
       "      <td>wow...\\nare you out of your mind, how was my e...</td>\n",
       "      <td>0</td>\n",
       "    </tr>\n",
       "    <tr>\n",
       "      <th>30106</th>\n",
       "      <td>wow...\\nare you out of your mind, how was my e...</td>\n",
       "      <td>0</td>\n",
       "    </tr>\n",
       "    <tr>\n",
       "      <th>30107</th>\n",
       "      <td>wow...\\nare you out of your mind, how was my e...</td>\n",
       "      <td>0</td>\n",
       "    </tr>\n",
       "  </tbody>\n",
       "</table>\n",
       "<p>60216 rows × 2 columns</p>\n",
       "</div>"
      ],
      "text/plain": [
       "                                                    text  y\n",
       "0      WHAT!!!!!!!!?!?!!?!?!!?!?!?!?!!!!!!!!!!!!!!!!!...  1\n",
       "1       Daphne Guinness \\n\\nTop of the mornin' my fav...  1\n",
       "2      \"Atom you don't believe actual photos of mastu...  1\n",
       "3      You seem to have sand in your vagina.\\n\\nMight...  1\n",
       "4               hey \\n\\nway to support nazis, you racist  1\n",
       "...                                                  ... ..\n",
       "30103  I'm sorry. I'm not an admin. I will give you t...  0\n",
       "30104  I'm sorry. I'm not an admin. I will give you t...  0\n",
       "30105  wow...\\nare you out of your mind, how was my e...  0\n",
       "30106  wow...\\nare you out of your mind, how was my e...  0\n",
       "30107  wow...\\nare you out of your mind, how was my e...  0\n",
       "\n",
       "[60216 rows x 2 columns]"
      ]
     },
     "execution_count": 11,
     "metadata": {},
     "output_type": "execute_result"
    }
   ],
   "source": [
    "messages2=pd.concat([more_tox,less_tox])\n",
    "messages2"
   ]
  },
  {
   "cell_type": "code",
   "execution_count": 12,
   "id": "b9d7a86b",
   "metadata": {
    "execution": {
     "iopub.execute_input": "2022-02-05T08:23:24.521632Z",
     "iopub.status.busy": "2022-02-05T08:23:24.520953Z",
     "iopub.status.idle": "2022-02-05T08:23:24.524920Z",
     "shell.execute_reply": "2022-02-05T08:23:24.524382Z",
     "shell.execute_reply.started": "2022-02-05T07:52:56.205898Z"
    },
    "papermill": {
     "duration": 0.048543,
     "end_time": "2022-02-05T08:23:24.525056",
     "exception": false,
     "start_time": "2022-02-05T08:23:24.476513",
     "status": "completed"
    },
    "tags": []
   },
   "outputs": [
    {
     "data": {
      "text/plain": [
       "text     This article sucks \\n\\nwoo woo wooooooo\n",
       "y                                              0\n",
       "Name: 0, dtype: object"
      ]
     },
     "execution_count": 12,
     "metadata": {},
     "output_type": "execute_result"
    }
   ],
   "source": [
    "messages2.iloc[30108]"
   ]
  },
  {
   "cell_type": "code",
   "execution_count": 13,
   "id": "65dda2e8",
   "metadata": {
    "execution": {
     "iopub.execute_input": "2022-02-05T08:23:24.615024Z",
     "iopub.status.busy": "2022-02-05T08:23:24.612107Z",
     "iopub.status.idle": "2022-02-05T08:23:24.618334Z",
     "shell.execute_reply": "2022-02-05T08:23:24.617765Z",
     "shell.execute_reply.started": "2022-02-05T07:52:56.215052Z"
    },
    "papermill": {
     "duration": 0.053736,
     "end_time": "2022-02-05T08:23:24.618476",
     "exception": false,
     "start_time": "2022-02-05T08:23:24.564740",
     "status": "completed"
    },
    "tags": []
   },
   "outputs": [],
   "source": [
    "#messages.sort_index()\n",
    "messages=messages2.reset_index(drop=True)"
   ]
  },
  {
   "cell_type": "code",
   "execution_count": 14,
   "id": "b2fb4892",
   "metadata": {
    "execution": {
     "iopub.execute_input": "2022-02-05T08:23:24.714866Z",
     "iopub.status.busy": "2022-02-05T08:23:24.714047Z",
     "iopub.status.idle": "2022-02-05T08:23:24.728184Z",
     "shell.execute_reply": "2022-02-05T08:23:24.728756Z",
     "shell.execute_reply.started": "2022-02-05T07:52:56.233074Z"
    },
    "papermill": {
     "duration": 0.071787,
     "end_time": "2022-02-05T08:23:24.728946",
     "exception": false,
     "start_time": "2022-02-05T08:23:24.657159",
     "status": "completed"
    },
    "tags": []
   },
   "outputs": [
    {
     "name": "stdout",
     "output_type": "stream",
     "text": [
      "<class 'pandas.core.frame.DataFrame'>\n",
      "RangeIndex: 60216 entries, 0 to 60215\n",
      "Data columns (total 2 columns):\n",
      " #   Column  Non-Null Count  Dtype \n",
      "---  ------  --------------  ----- \n",
      " 0   text    60216 non-null  object\n",
      " 1   y       60216 non-null  object\n",
      "dtypes: object(2)\n",
      "memory usage: 941.0+ KB\n"
     ]
    }
   ],
   "source": [
    "messages.info()"
   ]
  },
  {
   "cell_type": "code",
   "execution_count": 15,
   "id": "dca8b319",
   "metadata": {
    "execution": {
     "iopub.execute_input": "2022-02-05T08:23:24.811177Z",
     "iopub.status.busy": "2022-02-05T08:23:24.810522Z",
     "iopub.status.idle": "2022-02-05T08:34:57.424773Z",
     "shell.execute_reply": "2022-02-05T08:34:57.427412Z",
     "shell.execute_reply.started": "2022-02-05T07:52:56.267234Z"
    },
    "papermill": {
     "duration": 692.659349,
     "end_time": "2022-02-05T08:34:57.427766",
     "exception": false,
     "start_time": "2022-02-05T08:23:24.768417",
     "status": "completed"
    },
    "tags": []
   },
   "outputs": [],
   "source": [
    "ps = PorterStemmer()\n",
    "corpus = []\n",
    "for i in range(0, len(messages)):\n",
    "    review = re.sub('[^a-zA-Z]', ' ',str(messages['text'][i])) \n",
    "    review = review.lower()\n",
    "    review = review.split()\n",
    "    \n",
    "    review = [ps.stem(word) for word in review if not word in stopwords.words('english')]\n",
    "    review = ' '.join(review)\n",
    "    corpus.append(review)\n",
    "    \n",
    "## Applying Countvectorizer\n",
    "# Creating the Bag of Words model\n",
    "from sklearn.feature_extraction.text import CountVectorizer\n",
    "cv = CountVectorizer(max_features=20000,ngram_range=(1,3))\n",
    "X = cv.fit_transform(corpus).toarray()    \n"
   ]
  },
  {
   "cell_type": "code",
   "execution_count": 16,
   "id": "1f5aaef7",
   "metadata": {
    "execution": {
     "iopub.execute_input": "2022-02-05T08:34:57.637608Z",
     "iopub.status.busy": "2022-02-05T08:34:57.636884Z",
     "iopub.status.idle": "2022-02-05T08:34:57.638711Z",
     "shell.execute_reply": "2022-02-05T08:34:57.639354Z",
     "shell.execute_reply.started": "2022-02-05T08:04:13.508312Z"
    },
    "papermill": {
     "duration": 0.06932,
     "end_time": "2022-02-05T08:34:57.639525",
     "exception": false,
     "start_time": "2022-02-05T08:34:57.570205",
     "status": "completed"
    },
    "tags": []
   },
   "outputs": [],
   "source": [
    "y=messages['y']\n"
   ]
  },
  {
   "cell_type": "code",
   "execution_count": 17,
   "id": "48ae63a4",
   "metadata": {
    "execution": {
     "iopub.execute_input": "2022-02-05T08:34:57.721048Z",
     "iopub.status.busy": "2022-02-05T08:34:57.720347Z",
     "iopub.status.idle": "2022-02-05T08:34:57.723675Z",
     "shell.execute_reply": "2022-02-05T08:34:57.724287Z",
     "shell.execute_reply.started": "2022-02-05T08:04:13.514937Z"
    },
    "papermill": {
     "duration": 0.045584,
     "end_time": "2022-02-05T08:34:57.724458",
     "exception": false,
     "start_time": "2022-02-05T08:34:57.678874",
     "status": "completed"
    },
    "tags": []
   },
   "outputs": [],
   "source": [
    "#np.save(\"y.npy\", y)\n"
   ]
  },
  {
   "cell_type": "code",
   "execution_count": 18,
   "id": "87126c99",
   "metadata": {
    "execution": {
     "iopub.execute_input": "2022-02-05T08:34:57.805652Z",
     "iopub.status.busy": "2022-02-05T08:34:57.805015Z",
     "iopub.status.idle": "2022-02-05T08:34:57.810235Z",
     "shell.execute_reply": "2022-02-05T08:34:57.810821Z",
     "shell.execute_reply.started": "2022-02-05T08:04:13.529441Z"
    },
    "papermill": {
     "duration": 0.047473,
     "end_time": "2022-02-05T08:34:57.810988",
     "exception": false,
     "start_time": "2022-02-05T08:34:57.763515",
     "status": "completed"
    },
    "tags": []
   },
   "outputs": [
    {
     "data": {
      "text/plain": [
       "'del corpus\\ndel messages'"
      ]
     },
     "execution_count": 18,
     "metadata": {},
     "output_type": "execute_result"
    }
   ],
   "source": [
    "\"\"\"del corpus\n",
    "del messages\"\"\""
   ]
  },
  {
   "cell_type": "code",
   "execution_count": 19,
   "id": "eea6cedb",
   "metadata": {
    "execution": {
     "iopub.execute_input": "2022-02-05T08:34:57.893591Z",
     "iopub.status.busy": "2022-02-05T08:34:57.892923Z",
     "iopub.status.idle": "2022-02-05T08:34:57.896115Z",
     "shell.execute_reply": "2022-02-05T08:34:57.896728Z",
     "shell.execute_reply.started": "2022-02-05T08:04:13.546286Z"
    },
    "papermill": {
     "duration": 0.045938,
     "end_time": "2022-02-05T08:34:57.896900",
     "exception": false,
     "start_time": "2022-02-05T08:34:57.850962",
     "status": "completed"
    },
    "tags": []
   },
   "outputs": [],
   "source": [
    "#np.save(\"X.npy\", X)\n",
    "\n",
    "#loaded_array = np.load(\"X.npy\")"
   ]
  },
  {
   "cell_type": "code",
   "execution_count": 20,
   "id": "72ece036",
   "metadata": {
    "execution": {
     "iopub.execute_input": "2022-02-05T08:34:57.979513Z",
     "iopub.status.busy": "2022-02-05T08:34:57.978662Z",
     "iopub.status.idle": "2022-02-05T08:34:57.982045Z",
     "shell.execute_reply": "2022-02-05T08:34:57.982657Z",
     "shell.execute_reply.started": "2022-02-05T08:04:13.557019Z"
    },
    "papermill": {
     "duration": 0.046352,
     "end_time": "2022-02-05T08:34:57.982835",
     "exception": false,
     "start_time": "2022-02-05T08:34:57.936483",
     "status": "completed"
    },
    "tags": []
   },
   "outputs": [],
   "source": [
    "#X = np.load('../input/notebookf4f9440013/X.npy')"
   ]
  },
  {
   "cell_type": "code",
   "execution_count": 21,
   "id": "60cf59b3",
   "metadata": {
    "execution": {
     "iopub.execute_input": "2022-02-05T08:34:58.073325Z",
     "iopub.status.busy": "2022-02-05T08:34:58.072333Z",
     "iopub.status.idle": "2022-02-05T08:35:18.926025Z",
     "shell.execute_reply": "2022-02-05T08:35:18.924901Z",
     "shell.execute_reply.started": "2022-02-05T08:04:13.569209Z"
    },
    "papermill": {
     "duration": 20.902402,
     "end_time": "2022-02-05T08:35:18.926462",
     "exception": false,
     "start_time": "2022-02-05T08:34:58.024060",
     "status": "completed"
    },
    "tags": []
   },
   "outputs": [],
   "source": [
    "## Divide the dataset into Train and Test\n",
    "from sklearn.model_selection import train_test_split\n",
    "X_train, X_test, y_train, y_test = train_test_split(X, y, test_size=0.33, random_state=0)"
   ]
  },
  {
   "cell_type": "code",
   "execution_count": 22,
   "id": "1cb1081c",
   "metadata": {
    "execution": {
     "iopub.execute_input": "2022-02-05T08:35:19.017810Z",
     "iopub.status.busy": "2022-02-05T08:35:19.016967Z",
     "iopub.status.idle": "2022-02-05T08:35:19.020605Z",
     "shell.execute_reply": "2022-02-05T08:35:19.021283Z",
     "shell.execute_reply.started": "2022-02-05T08:04:24.400106Z"
    },
    "papermill": {
     "duration": 0.048371,
     "end_time": "2022-02-05T08:35:19.021457",
     "exception": false,
     "start_time": "2022-02-05T08:35:18.973086",
     "status": "completed"
    },
    "tags": []
   },
   "outputs": [],
   "source": [
    "import numpy as np\n",
    "#np.save(\"X_train.npy\", X_train)\n",
    "#np.save(\"X_test.npy\", X_test)\n",
    "#np.save(\"y_train.npy\", y_train)\n",
    "#np.save(\"y_test.npy\", y_test)\n"
   ]
  },
  {
   "cell_type": "code",
   "execution_count": 23,
   "id": "321c02e1",
   "metadata": {
    "execution": {
     "iopub.execute_input": "2022-02-05T08:35:19.304909Z",
     "iopub.status.busy": "2022-02-05T08:35:19.304161Z",
     "iopub.status.idle": "2022-02-05T08:35:19.306768Z",
     "shell.execute_reply": "2022-02-05T08:35:19.306115Z",
     "shell.execute_reply.started": "2022-02-05T08:04:24.410654Z"
    },
    "papermill": {
     "duration": 0.245688,
     "end_time": "2022-02-05T08:35:19.306919",
     "exception": false,
     "start_time": "2022-02-05T08:35:19.061231",
     "status": "completed"
    },
    "tags": []
   },
   "outputs": [],
   "source": [
    "del X"
   ]
  },
  {
   "cell_type": "code",
   "execution_count": 24,
   "id": "9b14642d",
   "metadata": {
    "execution": {
     "iopub.execute_input": "2022-02-05T08:35:19.429391Z",
     "iopub.status.busy": "2022-02-05T08:35:19.428616Z",
     "iopub.status.idle": "2022-02-05T08:35:19.432392Z",
     "shell.execute_reply": "2022-02-05T08:35:19.431889Z",
     "shell.execute_reply.started": "2022-02-05T08:04:24.649167Z"
    },
    "papermill": {
     "duration": 0.085703,
     "end_time": "2022-02-05T08:35:19.432538",
     "exception": false,
     "start_time": "2022-02-05T08:35:19.346835",
     "status": "completed"
    },
    "tags": []
   },
   "outputs": [
    {
     "data": {
      "text/plain": [
       "['aa',\n",
       " 'aaron',\n",
       " 'ab',\n",
       " 'abandon',\n",
       " 'abbr',\n",
       " 'abc',\n",
       " 'abd',\n",
       " 'abduct',\n",
       " 'abdul',\n",
       " 'abe',\n",
       " 'abe gay',\n",
       " 'abhorr',\n",
       " 'abid',\n",
       " 'abil',\n",
       " 'abl',\n",
       " 'abl edit',\n",
       " 'abl edit page',\n",
       " 'abl get',\n",
       " 'abl respond',\n",
       " 'abl use']"
      ]
     },
     "execution_count": 24,
     "metadata": {},
     "output_type": "execute_result"
    }
   ],
   "source": [
    "cv.get_feature_names()[:20]\n"
   ]
  },
  {
   "cell_type": "code",
   "execution_count": 25,
   "id": "d4b5af28",
   "metadata": {
    "execution": {
     "iopub.execute_input": "2022-02-05T08:35:19.519567Z",
     "iopub.status.busy": "2022-02-05T08:35:19.518529Z",
     "iopub.status.idle": "2022-02-05T08:35:19.525061Z",
     "shell.execute_reply": "2022-02-05T08:35:19.525539Z",
     "shell.execute_reply.started": "2022-02-05T08:04:24.717417Z"
    },
    "papermill": {
     "duration": 0.050072,
     "end_time": "2022-02-05T08:35:19.525719",
     "exception": false,
     "start_time": "2022-02-05T08:35:19.475647",
     "status": "completed"
    },
    "tags": []
   },
   "outputs": [
    {
     "data": {
      "text/plain": [
       "{'analyzer': 'word',\n",
       " 'binary': False,\n",
       " 'decode_error': 'strict',\n",
       " 'dtype': numpy.int64,\n",
       " 'encoding': 'utf-8',\n",
       " 'input': 'content',\n",
       " 'lowercase': True,\n",
       " 'max_df': 1.0,\n",
       " 'max_features': 20000,\n",
       " 'min_df': 1,\n",
       " 'ngram_range': (1, 3),\n",
       " 'preprocessor': None,\n",
       " 'stop_words': None,\n",
       " 'strip_accents': None,\n",
       " 'token_pattern': '(?u)\\\\b\\\\w\\\\w+\\\\b',\n",
       " 'tokenizer': None,\n",
       " 'vocabulary': None}"
      ]
     },
     "execution_count": 25,
     "metadata": {},
     "output_type": "execute_result"
    }
   ],
   "source": [
    "cv.get_params()"
   ]
  },
  {
   "cell_type": "code",
   "execution_count": 26,
   "id": "d43dbf03",
   "metadata": {
    "execution": {
     "iopub.execute_input": "2022-02-05T08:35:19.610654Z",
     "iopub.status.busy": "2022-02-05T08:35:19.609599Z",
     "iopub.status.idle": "2022-02-05T08:35:19.647401Z",
     "shell.execute_reply": "2022-02-05T08:35:19.647911Z",
     "shell.execute_reply.started": "2022-02-05T08:04:24.731469Z"
    },
    "papermill": {
     "duration": 0.081998,
     "end_time": "2022-02-05T08:35:19.648095",
     "exception": false,
     "start_time": "2022-02-05T08:35:19.566097",
     "status": "completed"
    },
    "tags": []
   },
   "outputs": [],
   "source": [
    "count_df = pd.DataFrame(X_train, columns=cv.get_feature_names())\n"
   ]
  },
  {
   "cell_type": "code",
   "execution_count": 27,
   "id": "36b7fda6",
   "metadata": {
    "execution": {
     "iopub.execute_input": "2022-02-05T08:35:19.732999Z",
     "iopub.status.busy": "2022-02-05T08:35:19.731941Z",
     "iopub.status.idle": "2022-02-05T08:35:19.755974Z",
     "shell.execute_reply": "2022-02-05T08:35:19.756441Z",
     "shell.execute_reply.started": "2022-02-05T08:04:24.787474Z"
    },
    "papermill": {
     "duration": 0.068076,
     "end_time": "2022-02-05T08:35:19.756616",
     "exception": false,
     "start_time": "2022-02-05T08:35:19.688540",
     "status": "completed"
    },
    "tags": []
   },
   "outputs": [
    {
     "data": {
      "text/html": [
       "<div>\n",
       "<style scoped>\n",
       "    .dataframe tbody tr th:only-of-type {\n",
       "        vertical-align: middle;\n",
       "    }\n",
       "\n",
       "    .dataframe tbody tr th {\n",
       "        vertical-align: top;\n",
       "    }\n",
       "\n",
       "    .dataframe thead th {\n",
       "        text-align: right;\n",
       "    }\n",
       "</style>\n",
       "<table border=\"1\" class=\"dataframe\">\n",
       "  <thead>\n",
       "    <tr style=\"text-align: right;\">\n",
       "      <th></th>\n",
       "      <th>aa</th>\n",
       "      <th>aaron</th>\n",
       "      <th>ab</th>\n",
       "      <th>abandon</th>\n",
       "      <th>abbr</th>\n",
       "      <th>abc</th>\n",
       "      <th>abd</th>\n",
       "      <th>abduct</th>\n",
       "      <th>abdul</th>\n",
       "      <th>abe</th>\n",
       "      <th>...</th>\n",
       "      <th>zigz</th>\n",
       "      <th>zigz gger</th>\n",
       "      <th>zion</th>\n",
       "      <th>zionism</th>\n",
       "      <th>zionist</th>\n",
       "      <th>zip</th>\n",
       "      <th>zoe</th>\n",
       "      <th>zombi</th>\n",
       "      <th>zone</th>\n",
       "      <th>zoo</th>\n",
       "    </tr>\n",
       "  </thead>\n",
       "  <tbody>\n",
       "    <tr>\n",
       "      <th>0</th>\n",
       "      <td>0</td>\n",
       "      <td>0</td>\n",
       "      <td>0</td>\n",
       "      <td>0</td>\n",
       "      <td>0</td>\n",
       "      <td>0</td>\n",
       "      <td>0</td>\n",
       "      <td>0</td>\n",
       "      <td>0</td>\n",
       "      <td>0</td>\n",
       "      <td>...</td>\n",
       "      <td>0</td>\n",
       "      <td>0</td>\n",
       "      <td>0</td>\n",
       "      <td>0</td>\n",
       "      <td>0</td>\n",
       "      <td>0</td>\n",
       "      <td>0</td>\n",
       "      <td>0</td>\n",
       "      <td>0</td>\n",
       "      <td>0</td>\n",
       "    </tr>\n",
       "    <tr>\n",
       "      <th>1</th>\n",
       "      <td>0</td>\n",
       "      <td>0</td>\n",
       "      <td>0</td>\n",
       "      <td>0</td>\n",
       "      <td>0</td>\n",
       "      <td>0</td>\n",
       "      <td>0</td>\n",
       "      <td>0</td>\n",
       "      <td>0</td>\n",
       "      <td>0</td>\n",
       "      <td>...</td>\n",
       "      <td>0</td>\n",
       "      <td>0</td>\n",
       "      <td>0</td>\n",
       "      <td>0</td>\n",
       "      <td>1</td>\n",
       "      <td>0</td>\n",
       "      <td>0</td>\n",
       "      <td>0</td>\n",
       "      <td>0</td>\n",
       "      <td>0</td>\n",
       "    </tr>\n",
       "    <tr>\n",
       "      <th>2</th>\n",
       "      <td>0</td>\n",
       "      <td>0</td>\n",
       "      <td>0</td>\n",
       "      <td>0</td>\n",
       "      <td>0</td>\n",
       "      <td>0</td>\n",
       "      <td>0</td>\n",
       "      <td>0</td>\n",
       "      <td>0</td>\n",
       "      <td>0</td>\n",
       "      <td>...</td>\n",
       "      <td>0</td>\n",
       "      <td>0</td>\n",
       "      <td>0</td>\n",
       "      <td>0</td>\n",
       "      <td>0</td>\n",
       "      <td>0</td>\n",
       "      <td>0</td>\n",
       "      <td>0</td>\n",
       "      <td>0</td>\n",
       "      <td>0</td>\n",
       "    </tr>\n",
       "    <tr>\n",
       "      <th>3</th>\n",
       "      <td>0</td>\n",
       "      <td>0</td>\n",
       "      <td>0</td>\n",
       "      <td>0</td>\n",
       "      <td>0</td>\n",
       "      <td>0</td>\n",
       "      <td>0</td>\n",
       "      <td>0</td>\n",
       "      <td>0</td>\n",
       "      <td>0</td>\n",
       "      <td>...</td>\n",
       "      <td>0</td>\n",
       "      <td>0</td>\n",
       "      <td>0</td>\n",
       "      <td>0</td>\n",
       "      <td>0</td>\n",
       "      <td>0</td>\n",
       "      <td>0</td>\n",
       "      <td>0</td>\n",
       "      <td>0</td>\n",
       "      <td>0</td>\n",
       "    </tr>\n",
       "    <tr>\n",
       "      <th>4</th>\n",
       "      <td>0</td>\n",
       "      <td>0</td>\n",
       "      <td>0</td>\n",
       "      <td>0</td>\n",
       "      <td>0</td>\n",
       "      <td>0</td>\n",
       "      <td>0</td>\n",
       "      <td>0</td>\n",
       "      <td>0</td>\n",
       "      <td>0</td>\n",
       "      <td>...</td>\n",
       "      <td>0</td>\n",
       "      <td>0</td>\n",
       "      <td>0</td>\n",
       "      <td>0</td>\n",
       "      <td>0</td>\n",
       "      <td>0</td>\n",
       "      <td>0</td>\n",
       "      <td>0</td>\n",
       "      <td>0</td>\n",
       "      <td>0</td>\n",
       "    </tr>\n",
       "  </tbody>\n",
       "</table>\n",
       "<p>5 rows × 20000 columns</p>\n",
       "</div>"
      ],
      "text/plain": [
       "   aa  aaron  ab  abandon  abbr  abc  abd  abduct  abdul  abe  ...  zigz  \\\n",
       "0   0      0   0        0     0    0    0       0      0    0  ...     0   \n",
       "1   0      0   0        0     0    0    0       0      0    0  ...     0   \n",
       "2   0      0   0        0     0    0    0       0      0    0  ...     0   \n",
       "3   0      0   0        0     0    0    0       0      0    0  ...     0   \n",
       "4   0      0   0        0     0    0    0       0      0    0  ...     0   \n",
       "\n",
       "   zigz gger  zion  zionism  zionist  zip  zoe  zombi  zone  zoo  \n",
       "0          0     0        0        0    0    0      0     0    0  \n",
       "1          0     0        0        1    0    0      0     0    0  \n",
       "2          0     0        0        0    0    0      0     0    0  \n",
       "3          0     0        0        0    0    0      0     0    0  \n",
       "4          0     0        0        0    0    0      0     0    0  \n",
       "\n",
       "[5 rows x 20000 columns]"
      ]
     },
     "execution_count": 27,
     "metadata": {},
     "output_type": "execute_result"
    }
   ],
   "source": [
    "count_df.head()\n"
   ]
  },
  {
   "cell_type": "code",
   "execution_count": 28,
   "id": "352eaa01",
   "metadata": {
    "execution": {
     "iopub.execute_input": "2022-02-05T08:35:19.850219Z",
     "iopub.status.busy": "2022-02-05T08:35:19.849142Z",
     "iopub.status.idle": "2022-02-05T08:35:19.854559Z",
     "shell.execute_reply": "2022-02-05T08:35:19.855052Z",
     "shell.execute_reply.started": "2022-02-05T08:04:24.838869Z"
    },
    "papermill": {
     "duration": 0.056671,
     "end_time": "2022-02-05T08:35:19.855235",
     "exception": false,
     "start_time": "2022-02-05T08:35:19.798564",
     "status": "completed"
    },
    "tags": []
   },
   "outputs": [],
   "source": [
    "import matplotlib.pyplot as plt\n",
    "def plot_confusion_matrix(cm, classes,\n",
    "                          normalize=False,\n",
    "                          title='Confusion matrix',\n",
    "                          cmap=plt.cm.Blues):\n",
    "    \"\"\"\n",
    "    See full source and example: \n",
    "    http://scikit-learn.org/stable/auto_examples/model_selection/plot_confusion_matrix.html\n",
    "    \n",
    "    This function prints and plots the confusion matrix.\n",
    "    Normalization can be applied by setting `normalize=True`.\n",
    "    \"\"\"\n",
    "    plt.imshow(cm, interpolation='nearest', cmap=cmap)\n",
    "    plt.title(title)\n",
    "    plt.colorbar()\n",
    "    tick_marks = np.arange(len(classes))\n",
    "    plt.xticks(tick_marks, classes, rotation=45)\n",
    "    plt.yticks(tick_marks, classes)\n",
    "\n",
    "    if normalize:\n",
    "        cm = cm.astype('float') / cm.sum(axis=1)[:, np.newaxis]\n",
    "        print(\"Normalized confusion matrix\")\n",
    "    else:\n",
    "        print('Confusion matrix, without normalization')\n",
    "\n",
    "    thresh = cm.max() / 2.\n",
    "    for i, j in itertools.product(range(cm.shape[0]), range(cm.shape[1])):\n",
    "        plt.text(j, i, cm[i, j],\n",
    "                 horizontalalignment=\"center\",\n",
    "                 color=\"white\" if cm[i, j] > thresh else \"black\")\n",
    "\n",
    "    plt.tight_layout()\n",
    "    plt.ylabel('True label')\n",
    "    plt.xlabel('Predicted label')"
   ]
  },
  {
   "cell_type": "code",
   "execution_count": 29,
   "id": "9f281d32",
   "metadata": {
    "execution": {
     "iopub.execute_input": "2022-02-05T08:35:19.943221Z",
     "iopub.status.busy": "2022-02-05T08:35:19.942192Z",
     "iopub.status.idle": "2022-02-05T08:35:19.950224Z",
     "shell.execute_reply": "2022-02-05T08:35:19.950782Z",
     "shell.execute_reply.started": "2022-02-05T08:04:24.852498Z"
    },
    "papermill": {
     "duration": 0.054885,
     "end_time": "2022-02-05T08:35:19.950969",
     "exception": false,
     "start_time": "2022-02-05T08:35:19.896084",
     "status": "completed"
    },
    "tags": []
   },
   "outputs": [],
   "source": [
    "from sklearn.naive_bayes import MultinomialNB\n",
    "classifier=MultinomialNB()\n"
   ]
  },
  {
   "cell_type": "code",
   "execution_count": 30,
   "id": "cc708902",
   "metadata": {
    "execution": {
     "iopub.execute_input": "2022-02-05T08:35:20.043589Z",
     "iopub.status.busy": "2022-02-05T08:35:20.042820Z",
     "iopub.status.idle": "2022-02-05T08:35:58.198579Z",
     "shell.execute_reply": "2022-02-05T08:35:58.199132Z",
     "shell.execute_reply.started": "2022-02-05T08:04:24.876067Z"
    },
    "papermill": {
     "duration": 38.207506,
     "end_time": "2022-02-05T08:35:58.199407",
     "exception": false,
     "start_time": "2022-02-05T08:35:19.991901",
     "status": "completed"
    },
    "tags": []
   },
   "outputs": [
    {
     "name": "stdout",
     "output_type": "stream",
     "text": [
      "accuracy:   0.606\n",
      "Confusion matrix, without normalization\n"
     ]
    },
    {
     "data": {
      "image/png": "[encoded data removed]",
      "text/plain": [
       "<Figure size 432x288 with 2 Axes>"
      ]
     },
     "metadata": {
      "needs_background": "light"
     },
     "output_type": "display_data"
    }
   ],
   "source": [
    "from sklearn import metrics\n",
    "import numpy as np\n",
    "import itertools\n",
    "model1=classifier.fit(X_train, y_train)\n",
    "pred = classifier.predict(X_test)\n",
    "score = metrics.accuracy_score(y_test, pred)\n",
    "print(\"accuracy:   %0.3f\" % score)\n",
    "cm = metrics.confusion_matrix(y_test, pred)\n",
    "plot_confusion_matrix(cm, classes=['less', 'more'])"
   ]
  },
  {
   "cell_type": "code",
   "execution_count": 31,
   "id": "e4f12b01",
   "metadata": {
    "execution": {
     "iopub.execute_input": "2022-02-05T08:35:58.287922Z",
     "iopub.status.busy": "2022-02-05T08:35:58.287185Z",
     "iopub.status.idle": "2022-02-05T08:35:58.290408Z",
     "shell.execute_reply": "2022-02-05T08:35:58.291049Z",
     "shell.execute_reply.started": "2022-02-05T08:04:38.857113Z"
    },
    "papermill": {
     "duration": 0.049799,
     "end_time": "2022-02-05T08:35:58.291230",
     "exception": false,
     "start_time": "2022-02-05T08:35:58.241431",
     "status": "completed"
    },
    "tags": []
   },
   "outputs": [],
   "source": [
    "#model1.save(model1)"
   ]
  },
  {
   "cell_type": "code",
   "execution_count": 32,
   "id": "ebd09ee8",
   "metadata": {
    "execution": {
     "iopub.execute_input": "2022-02-05T08:35:58.379869Z",
     "iopub.status.busy": "2022-02-05T08:35:58.379083Z",
     "iopub.status.idle": "2022-02-05T08:36:34.361738Z",
     "shell.execute_reply": "2022-02-05T08:36:34.362341Z",
     "shell.execute_reply.started": "2022-02-05T08:04:38.862489Z"
    },
    "papermill": {
     "duration": 36.028924,
     "end_time": "2022-02-05T08:36:34.362590",
     "exception": false,
     "start_time": "2022-02-05T08:35:58.333666",
     "status": "completed"
    },
    "tags": []
   },
   "outputs": [
    {
     "data": {
      "text/plain": [
       "0.6061292270531401"
      ]
     },
     "execution_count": 32,
     "metadata": {},
     "output_type": "execute_result"
    }
   ],
   "source": [
    "classifier.fit(X_train, y_train)\n",
    "pred = classifier.predict(X_test)\n",
    "score = metrics.accuracy_score(y_test, pred)\n",
    "score"
   ]
  },
  {
   "cell_type": "code",
   "execution_count": 33,
   "id": "5826777e",
   "metadata": {
    "execution": {
     "iopub.execute_input": "2022-02-05T08:36:34.467542Z",
     "iopub.status.busy": "2022-02-05T08:36:34.466572Z",
     "iopub.status.idle": "2022-02-05T08:36:34.470036Z",
     "shell.execute_reply": "2022-02-05T08:36:34.470620Z",
     "shell.execute_reply.started": "2022-02-05T08:04:52.252825Z"
    },
    "papermill": {
     "duration": 0.057583,
     "end_time": "2022-02-05T08:36:34.470811",
     "exception": false,
     "start_time": "2022-02-05T08:36:34.413228",
     "status": "completed"
    },
    "tags": []
   },
   "outputs": [
    {
     "data": {
      "text/plain": [
       "(40344,)"
      ]
     },
     "execution_count": 33,
     "metadata": {},
     "output_type": "execute_result"
    }
   ],
   "source": [
    "y_train.shape\n"
   ]
  },
  {
   "cell_type": "code",
   "execution_count": 34,
   "id": "0591091d",
   "metadata": {
    "execution": {
     "iopub.execute_input": "2022-02-05T08:36:34.570805Z",
     "iopub.status.busy": "2022-02-05T08:36:34.569422Z",
     "iopub.status.idle": "2022-02-05T08:38:03.702077Z",
     "shell.execute_reply": "2022-02-05T08:38:03.703028Z",
     "shell.execute_reply.started": "2022-02-05T08:04:52.260707Z"
    },
    "papermill": {
     "duration": 89.186046,
     "end_time": "2022-02-05T08:38:03.703281",
     "exception": false,
     "start_time": "2022-02-05T08:36:34.517235",
     "status": "completed"
    },
    "tags": []
   },
   "outputs": [
    {
     "name": "stdout",
     "output_type": "stream",
     "text": [
      "accuracy:   0.592\n",
      "Confusion matrix, without normalization\n"
     ]
    },
    {
     "data": {
      "image/png": "[encoded data removed]",
      "text/plain": [
       "<Figure size 432x288 with 2 Axes>"
      ]
     },
     "metadata": {
      "needs_background": "light"
     },
     "output_type": "display_data"
    }
   ],
   "source": [
    "from sklearn.linear_model import PassiveAggressiveClassifier\n",
    "linear_clf = PassiveAggressiveClassifier()\n",
    "linear_clf.fit(X_train, y_train)\n",
    "pred = linear_clf.predict(X_test)\n",
    "score = metrics.accuracy_score(y_test, pred)\n",
    "print(\"accuracy:   %0.3f\" % score)\n",
    "cm = metrics.confusion_matrix(y_test, pred)\n",
    "plot_confusion_matrix(cm, classes=['FAKE Data', 'REAL Data'])"
   ]
  },
  {
   "cell_type": "code",
   "execution_count": 35,
   "id": "eaa679bd",
   "metadata": {
    "execution": {
     "iopub.execute_input": "2022-02-05T08:38:03.797188Z",
     "iopub.status.busy": "2022-02-05T08:38:03.796525Z",
     "iopub.status.idle": "2022-02-05T08:38:03.948891Z",
     "shell.execute_reply": "2022-02-05T08:38:03.948362Z",
     "shell.execute_reply.started": "2022-02-05T08:06:05.584695Z"
    },
    "papermill": {
     "duration": 0.202089,
     "end_time": "2022-02-05T08:38:03.949038",
     "exception": false,
     "start_time": "2022-02-05T08:38:03.746949",
     "status": "completed"
    },
    "tags": []
   },
   "outputs": [
    {
     "data": {
      "text/html": [
       "<div>\n",
       "<style scoped>\n",
       "    .dataframe tbody tr th:only-of-type {\n",
       "        vertical-align: middle;\n",
       "    }\n",
       "\n",
       "    .dataframe tbody tr th {\n",
       "        vertical-align: top;\n",
       "    }\n",
       "\n",
       "    .dataframe thead th {\n",
       "        text-align: right;\n",
       "    }\n",
       "</style>\n",
       "<table border=\"1\" class=\"dataframe\">\n",
       "  <thead>\n",
       "    <tr style=\"text-align: right;\">\n",
       "      <th></th>\n",
       "      <th>comment_id</th>\n",
       "      <th>text</th>\n",
       "    </tr>\n",
       "  </thead>\n",
       "  <tbody>\n",
       "    <tr>\n",
       "      <th>0</th>\n",
       "      <td>114890</td>\n",
       "      <td>\"\\n \\n\\nGjalexei, you asked about whether ther...</td>\n",
       "    </tr>\n",
       "    <tr>\n",
       "      <th>1</th>\n",
       "      <td>732895</td>\n",
       "      <td>Looks like be have an abuser , can you please ...</td>\n",
       "    </tr>\n",
       "    <tr>\n",
       "      <th>2</th>\n",
       "      <td>1139051</td>\n",
       "      <td>I confess to having complete (and apparently b...</td>\n",
       "    </tr>\n",
       "    <tr>\n",
       "      <th>3</th>\n",
       "      <td>1434512</td>\n",
       "      <td>\"\\n\\nFreud's ideas are certainly much discusse...</td>\n",
       "    </tr>\n",
       "    <tr>\n",
       "      <th>4</th>\n",
       "      <td>2084821</td>\n",
       "      <td>It is not just you. This is a laundry list of ...</td>\n",
       "    </tr>\n",
       "  </tbody>\n",
       "</table>\n",
       "</div>"
      ],
      "text/plain": [
       "   comment_id                                               text\n",
       "0      114890  \"\\n \\n\\nGjalexei, you asked about whether ther...\n",
       "1      732895  Looks like be have an abuser , can you please ...\n",
       "2     1139051  I confess to having complete (and apparently b...\n",
       "3     1434512  \"\\n\\nFreud's ideas are certainly much discusse...\n",
       "4     2084821  It is not just you. This is a laundry list of ..."
      ]
     },
     "execution_count": 35,
     "metadata": {},
     "output_type": "execute_result"
    }
   ],
   "source": [
    "test1=pd.read_csv('../input/jigsaw-toxic-severity-rating/comments_to_score.csv')\n",
    "test1.head()"
   ]
  },
  {
   "cell_type": "code",
   "execution_count": 36,
   "id": "d3c88698",
   "metadata": {
    "execution": {
     "iopub.execute_input": "2022-02-05T08:38:04.042826Z",
     "iopub.status.busy": "2022-02-05T08:38:04.041859Z",
     "iopub.status.idle": "2022-02-05T08:39:32.443953Z",
     "shell.execute_reply": "2022-02-05T08:39:32.444490Z",
     "shell.execute_reply.started": "2022-02-05T08:06:05.738618Z"
    },
    "papermill": {
     "duration": 88.450033,
     "end_time": "2022-02-05T08:39:32.444706",
     "exception": false,
     "start_time": "2022-02-05T08:38:03.994673",
     "status": "completed"
    },
    "tags": []
   },
   "outputs": [],
   "source": [
    "ps = PorterStemmer()\n",
    "corpus = []\n",
    "for i in range(0, len(test1)):\n",
    "    review = re.sub('[^a-zA-Z]', ' ',str(test1['text'][i])) \n",
    "    review = review.lower()\n",
    "    review = review.split()\n",
    "    \n",
    "    review = [ps.stem(word) for word in review if not word in stopwords.words('english')]\n",
    "    review = ' '.join(review)\n",
    "    corpus.append(review)\n",
    "    \n",
    "## Applying Countvectorizer\n",
    "# Creating the Bag of Words model\n",
    "from sklearn.feature_extraction.text import CountVectorizer\n",
    "cv = CountVectorizer(max_features=20000,ngram_range=(1,3))\n",
    "X = cv.fit_transform(corpus).toarray()  "
   ]
  },
  {
   "cell_type": "code",
   "execution_count": 37,
   "id": "fc5eb55e",
   "metadata": {
    "execution": {
     "iopub.execute_input": "2022-02-05T08:39:32.538851Z",
     "iopub.status.busy": "2022-02-05T08:39:32.537859Z",
     "iopub.status.idle": "2022-02-05T08:39:32.544503Z",
     "shell.execute_reply": "2022-02-05T08:39:32.543829Z",
     "shell.execute_reply.started": "2022-02-05T08:07:33.506235Z"
    },
    "papermill": {
     "duration": 0.054606,
     "end_time": "2022-02-05T08:39:32.544644",
     "exception": false,
     "start_time": "2022-02-05T08:39:32.490038",
     "status": "completed"
    },
    "tags": []
   },
   "outputs": [
    {
     "data": {
      "text/plain": [
       "(40344, 20000)"
      ]
     },
     "execution_count": 37,
     "metadata": {},
     "output_type": "execute_result"
    }
   ],
   "source": [
    "X_train.shape"
   ]
  },
  {
   "cell_type": "code",
   "execution_count": 38,
   "id": "9bf7ebd6",
   "metadata": {
    "execution": {
     "iopub.execute_input": "2022-02-05T08:39:32.639604Z",
     "iopub.status.busy": "2022-02-05T08:39:32.638872Z",
     "iopub.status.idle": "2022-02-05T08:39:32.641668Z",
     "shell.execute_reply": "2022-02-05T08:39:32.642152Z",
     "shell.execute_reply.started": "2022-02-05T08:07:33.513497Z"
    },
    "papermill": {
     "duration": 0.053036,
     "end_time": "2022-02-05T08:39:32.642355",
     "exception": false,
     "start_time": "2022-02-05T08:39:32.589319",
     "status": "completed"
    },
    "tags": []
   },
   "outputs": [
    {
     "data": {
      "text/plain": [
       "(7537, 20000)"
      ]
     },
     "execution_count": 38,
     "metadata": {},
     "output_type": "execute_result"
    }
   ],
   "source": [
    "X.shape"
   ]
  },
  {
   "cell_type": "code",
   "execution_count": 39,
   "id": "f112f3cd",
   "metadata": {
    "execution": {
     "iopub.execute_input": "2022-02-05T08:39:32.736942Z",
     "iopub.status.busy": "2022-02-05T08:39:32.736280Z",
     "iopub.status.idle": "2022-02-05T08:39:33.531563Z",
     "shell.execute_reply": "2022-02-05T08:39:33.532598Z",
     "shell.execute_reply.started": "2022-02-05T08:22:04.815453Z"
    },
    "papermill": {
     "duration": 0.844774,
     "end_time": "2022-02-05T08:39:33.532910",
     "exception": false,
     "start_time": "2022-02-05T08:39:32.688136",
     "status": "completed"
    },
    "tags": []
   },
   "outputs": [],
   "source": [
    "\n",
    "predict = classifier.predict(X)\n"
   ]
  },
  {
   "cell_type": "code",
   "execution_count": null,
   "id": "2b61c2ec",
   "metadata": {
    "papermill": {
     "duration": 0.048606,
     "end_time": "2022-02-05T08:39:33.667820",
     "exception": false,
     "start_time": "2022-02-05T08:39:33.619214",
     "status": "completed"
    },
    "tags": []
   },
   "outputs": [],
   "source": []
  },
  {
   "cell_type": "code",
   "execution_count": null,
   "id": "7600d145",
   "metadata": {
    "papermill": {
     "duration": 0.045479,
     "end_time": "2022-02-05T08:39:33.758400",
     "exception": false,
     "start_time": "2022-02-05T08:39:33.712921",
     "status": "completed"
    },
    "tags": []
   },
   "outputs": [],
   "source": []
  },
  {
   "cell_type": "code",
   "execution_count": null,
   "id": "57573388",
   "metadata": {
    "papermill": {
     "duration": 0.045284,
     "end_time": "2022-02-05T08:39:33.849396",
     "exception": false,
     "start_time": "2022-02-05T08:39:33.804112",
     "status": "completed"
    },
    "tags": []
   },
   "outputs": [],
   "source": []
  }
 ],
 "metadata": {
  "kernelspec": {
   "display_name": "Python 3",
   "language": "python",
   "name": "python3"
  },
  "language_info": {
   "codemirror_mode": {
    "name": "ipython",
    "version": 3
   },
   "file_extension": ".py",
   "mimetype": "text/x-python",
   "name": "python",
   "nbconvert_exporter": "python",
   "pygments_lexer": "ipython3",
   "version": "3.7.10"
  },
  "papermill": {
   "default_parameters": {},
   "duration": 983.313816,
   "end_time": "2022-02-05T08:39:35.595730",
   "environment_variables": {},
   "exception": null,
   "input_path": "__notebook__.ipynb",
   "output_path": "__notebook__.ipynb",
   "parameters": {},
   "start_time": "2022-02-05T08:23:12.281914",
   "version": "2.3.3"
  }
 },
 "nbformat": 4,
 "nbformat_minor": 5
}
